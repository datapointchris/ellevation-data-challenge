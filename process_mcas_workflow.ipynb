{
 "cells": [
  {
   "cell_type": "markdown",
   "metadata": {},
   "source": [
    "## Workflow for Processing MCAS"
   ]
  },
  {
   "cell_type": "code",
   "execution_count": 1,
   "metadata": {},
   "outputs": [],
   "source": [
    "import pandas as pd\n",
    "from pathlib import Path\n",
    "from mcasprocessor import MCASProcessor\n",
    "\n",
    "pd.set_option('display.max_columns', 25)"
   ]
  },
  {
   "cell_type": "code",
   "execution_count": 2,
   "metadata": {},
   "outputs": [],
   "source": [
    "filename = Path('sample-mcas.csv')\n",
    "\n",
    "columns_of_interest = ['sasid', 'stugrade', 'eperf2', 'mperf2', 'sperf2', 'escaleds', \n",
    "                        'mscaleds', 'sscaleds', 'ecpi','mcpi', 'scpi']\n",
    "\n",
    "subjects = ['ela', 'math', 'science']\n",
    "\n",
    "output_column_format = ['NCESID', 'StudentTestID', 'StudentLocalID', 'StudentGradeLevel',\n",
    "                        'TestDate', 'TestName', 'TestTypeName', 'TestSubjectName', 'TestGradeLevel',\n",
    "                        'Score1Label', 'Score1Type', 'Score1Value',\n",
    "                        'Score2Label', 'Score2Type', 'Score2Value',\n",
    "                        'Score3Label', 'Score3Type', 'Score3Value',\n",
    "                        'Score4Label', 'Score4Type', 'Score4Value'\n",
    "                        ]"
   ]
  },
  {
   "cell_type": "code",
   "execution_count": 3,
   "metadata": {},
   "outputs": [
    {
     "output_type": "stream",
     "name": "stdout",
     "text": [
      "CPU times: user 3 µs, sys: 1e+03 ns, total: 4 µs\nWall time: 6.2 µs\n"
     ]
    }
   ],
   "source": [
    "%time\n",
    "\n",
    "time_full_df = pd.read_csv(filename)"
   ]
  },
  {
   "cell_type": "code",
   "execution_count": 4,
   "metadata": {},
   "outputs": [
    {
     "output_type": "stream",
     "name": "stdout",
     "text": [
      "CPU times: user 2 µs, sys: 0 ns, total: 2 µs\nWall time: 4.05 µs\n"
     ]
    }
   ],
   "source": [
    "%time\n",
    "\n",
    "time_partial_df = pd.read_csv(filename, usecols=columns_of_interest)"
   ]
  },
  {
   "cell_type": "code",
   "execution_count": 5,
   "metadata": {
    "scrolled": true
   },
   "outputs": [
    {
     "output_type": "execute_result",
     "data": {
      "text/plain": [
       "        sasid stugrade escaleds eperf2 ecpi mscaleds mperf2 mcpi sscaleds  \\\n",
       "0     1408905        3      216      W   25      210      W   25            \n",
       "1     1020285        3      238     NI   75      244      P  100            \n",
       "2     1681155        3      220     NI   50      236     NI   75            \n",
       "3     1987801        3      252      P  100      246      P  100            \n",
       "4     1351732        3      246      P  100      228     NI   50            \n",
       "...       ...      ...      ...    ...  ...      ...    ...  ...      ...   \n",
       "2666  1769669       10               F  100               F  100            \n",
       "2667  1757999        8      244      P  100      218      W   25      216   \n",
       "2668  1633264       10      236     NI   75      230     NI   75      222   \n",
       "2669  1760810        7               W  100               W  100            \n",
       "2670  1108784        9                                                      \n",
       "\n",
       "     sperf2 scpi  \n",
       "0                 \n",
       "1                 \n",
       "2                 \n",
       "3                 \n",
       "4                 \n",
       "...     ...  ...  \n",
       "2666      F   75  \n",
       "2667      W   25  \n",
       "2668     NI   50  \n",
       "2669              \n",
       "2670              \n",
       "\n",
       "[2671 rows x 11 columns]"
      ],
      "text/html": "<div>\n<style scoped>\n    .dataframe tbody tr th:only-of-type {\n        vertical-align: middle;\n    }\n\n    .dataframe tbody tr th {\n        vertical-align: top;\n    }\n\n    .dataframe thead th {\n        text-align: right;\n    }\n</style>\n<table border=\"1\" class=\"dataframe\">\n  <thead>\n    <tr style=\"text-align: right;\">\n      <th></th>\n      <th>sasid</th>\n      <th>stugrade</th>\n      <th>escaleds</th>\n      <th>eperf2</th>\n      <th>ecpi</th>\n      <th>mscaleds</th>\n      <th>mperf2</th>\n      <th>mcpi</th>\n      <th>sscaleds</th>\n      <th>sperf2</th>\n      <th>scpi</th>\n    </tr>\n  </thead>\n  <tbody>\n    <tr>\n      <th>0</th>\n      <td>1408905</td>\n      <td>3</td>\n      <td>216</td>\n      <td>W</td>\n      <td>25</td>\n      <td>210</td>\n      <td>W</td>\n      <td>25</td>\n      <td></td>\n      <td></td>\n      <td></td>\n    </tr>\n    <tr>\n      <th>1</th>\n      <td>1020285</td>\n      <td>3</td>\n      <td>238</td>\n      <td>NI</td>\n      <td>75</td>\n      <td>244</td>\n      <td>P</td>\n      <td>100</td>\n      <td></td>\n      <td></td>\n      <td></td>\n    </tr>\n    <tr>\n      <th>2</th>\n      <td>1681155</td>\n      <td>3</td>\n      <td>220</td>\n      <td>NI</td>\n      <td>50</td>\n      <td>236</td>\n      <td>NI</td>\n      <td>75</td>\n      <td></td>\n      <td></td>\n      <td></td>\n    </tr>\n    <tr>\n      <th>3</th>\n      <td>1987801</td>\n      <td>3</td>\n      <td>252</td>\n      <td>P</td>\n      <td>100</td>\n      <td>246</td>\n      <td>P</td>\n      <td>100</td>\n      <td></td>\n      <td></td>\n      <td></td>\n    </tr>\n    <tr>\n      <th>4</th>\n      <td>1351732</td>\n      <td>3</td>\n      <td>246</td>\n      <td>P</td>\n      <td>100</td>\n      <td>228</td>\n      <td>NI</td>\n      <td>50</td>\n      <td></td>\n      <td></td>\n      <td></td>\n    </tr>\n    <tr>\n      <th>...</th>\n      <td>...</td>\n      <td>...</td>\n      <td>...</td>\n      <td>...</td>\n      <td>...</td>\n      <td>...</td>\n      <td>...</td>\n      <td>...</td>\n      <td>...</td>\n      <td>...</td>\n      <td>...</td>\n    </tr>\n    <tr>\n      <th>2666</th>\n      <td>1769669</td>\n      <td>10</td>\n      <td></td>\n      <td>F</td>\n      <td>100</td>\n      <td></td>\n      <td>F</td>\n      <td>100</td>\n      <td></td>\n      <td>F</td>\n      <td>75</td>\n    </tr>\n    <tr>\n      <th>2667</th>\n      <td>1757999</td>\n      <td>8</td>\n      <td>244</td>\n      <td>P</td>\n      <td>100</td>\n      <td>218</td>\n      <td>W</td>\n      <td>25</td>\n      <td>216</td>\n      <td>W</td>\n      <td>25</td>\n    </tr>\n    <tr>\n      <th>2668</th>\n      <td>1633264</td>\n      <td>10</td>\n      <td>236</td>\n      <td>NI</td>\n      <td>75</td>\n      <td>230</td>\n      <td>NI</td>\n      <td>75</td>\n      <td>222</td>\n      <td>NI</td>\n      <td>50</td>\n    </tr>\n    <tr>\n      <th>2669</th>\n      <td>1760810</td>\n      <td>7</td>\n      <td></td>\n      <td>W</td>\n      <td>100</td>\n      <td></td>\n      <td>W</td>\n      <td>100</td>\n      <td></td>\n      <td></td>\n      <td></td>\n    </tr>\n    <tr>\n      <th>2670</th>\n      <td>1108784</td>\n      <td>9</td>\n      <td></td>\n      <td></td>\n      <td></td>\n      <td></td>\n      <td></td>\n      <td></td>\n      <td></td>\n      <td></td>\n      <td></td>\n    </tr>\n  </tbody>\n</table>\n<p>2671 rows × 11 columns</p>\n</div>"
     },
     "metadata": {},
     "execution_count": 5
    }
   ],
   "source": [
    "# Keep df_original to compare with transformations\n",
    "df = pd.read_csv(filename, usecols=columns_of_interest)\n",
    "df_original = df.copy()\n",
    "df"
   ]
  },
  {
   "cell_type": "code",
   "execution_count": 6,
   "metadata": {},
   "outputs": [
    {
     "output_type": "stream",
     "name": "stdout",
     "text": [
      "<class 'pandas.core.frame.DataFrame'>\nRangeIndex: 2671 entries, 0 to 2670\nData columns (total 11 columns):\n #   Column    Non-Null Count  Dtype \n---  ------    --------------  ----- \n 0   sasid     2671 non-null   int64 \n 1   stugrade  2671 non-null   object\n 2   escaleds  2671 non-null   object\n 3   eperf2    2671 non-null   object\n 4   ecpi      2671 non-null   object\n 5   mscaleds  2671 non-null   object\n 6   mperf2    2671 non-null   object\n 7   mcpi      2671 non-null   object\n 8   sscaleds  2671 non-null   object\n 9   sperf2    2671 non-null   object\n 10  scpi      2671 non-null   object\ndtypes: int64(1), object(10)\nmemory usage: 229.7+ KB\n"
     ]
    }
   ],
   "source": [
    "df.info()"
   ]
  },
  {
   "cell_type": "code",
   "execution_count": 7,
   "metadata": {},
   "outputs": [
    {
     "output_type": "stream",
     "name": "stdout",
     "text": [
      "COLUMN:  sasid\n1840155    2\n1603583    1\n1619332    1\n1140098    1\n1555839    1\n          ..\n1659356    1\n1129142    1\n1043124    1\n1187782    1\n1445888    1\nName: sasid, Length: 2670, dtype: int64\n\nCOLUMN:  stugrade\n3     389\n4     380\n5     378\n8     377\n6     358\n7     357\n10    339\n9      59\n11     25\n12      8\nSP      1\nName: stugrade, dtype: int64\n\nCOLUMN:  escaleds\n       210\n252    157\n244    136\n250    134\n246    132\n242    124\n258    120\n262    116\n248    108\n254     98\n240     95\n256     93\n238     92\n220     80\n234     70\n268     69\n218     68\n232     68\n236     60\n226     58\n260     54\n230     53\n264     51\n266     50\n272     48\n228     45\n216     43\n276     35\n224     34\n222     33\n214     28\n280     24\n270     23\n212     22\n210     19\n208      9\n278      8\n274      4\nName: escaleds, dtype: int64\n\nCOLUMN:  eperf2\nP     1189\nNI     589\nA      481\nW      232\n       164\nF       16\nName: eperf2, dtype: int64\n\nCOLUMN:  ecpi\n100    1721\n75      348\n50      249\n25      180\n        164\n0         9\nName: ecpi, dtype: int64\n\nCOLUMN:  mscaleds\n       204\n220    150\n218    130\n240    118\n254    114\n244    108\n262     98\n266     94\n236     94\n260     93\n264     89\n248     87\n258     85\n246     82\n216     77\n226     74\n238     72\n242     72\n256     71\n228     71\n230     69\n232     63\n250     63\n224     60\n252     55\n270     51\n234     50\n214     49\n268     49\n222     46\n212     27\n280     21\n276     19\n210     16\n272     16\n208      8\n274      8\n278      7\n206      6\n204      4\n202      1\nName: mscaleds, dtype: int64\n\nCOLUMN:  mperf2\nP     850\nNI    744\nA     540\nW     340\n      158\nF      39\nName: mperf2, dtype: int64\n\nCOLUMN:  mcpi\n100    1430\n50      398\n75      357\n25      309\n        158\n0        19\nName: mcpi, dtype: int64\n\nCOLUMN:  sscaleds\n       1547\n236      64\n220      62\n246      62\n242      60\n228      60\n218      58\n238      48\n248      45\n252      43\n266      42\n224      40\n256      37\n240      34\n234      33\n262      31\n232      30\n264      30\n222      29\n230      29\n216      28\n250      27\n260      27\n226      25\n268      22\n270      21\n258      21\n254      21\n214      16\n244      14\n274      13\n272      12\n280      11\n278       8\n212       6\n210       5\n208       4\n276       4\n206       2\nName: sscaleds, dtype: int64\n\nCOLUMN:  sperf2\n      1616\nNI     402\nP      356\nA      171\nW       88\nF       38\nName: sperf2, dtype: int64\n\nCOLUMN:  scpi\n       1616\n100     541\n75      207\n50      203\n25       99\n0         5\nName: scpi, dtype: int64\n\n"
     ]
    }
   ],
   "source": [
    "for col in df.columns:\n",
    "    print('COLUMN: ', col)\n",
    "    print(df[col].value_counts())\n",
    "    print()"
   ]
  },
  {
   "cell_type": "markdown",
   "metadata": {},
   "source": [
    "## Record with Duplicate `sasid`\n",
    "\n",
    "Keeping both, why is this the only duplicate?"
   ]
  },
  {
   "cell_type": "code",
   "execution_count": 8,
   "metadata": {},
   "outputs": [
    {
     "output_type": "execute_result",
     "data": {
      "text/plain": [
       "2670"
      ]
     },
     "metadata": {},
     "execution_count": 8
    }
   ],
   "source": [
    "len(df.sasid.unique())"
   ]
  },
  {
   "cell_type": "code",
   "execution_count": 9,
   "metadata": {
    "scrolled": true
   },
   "outputs": [
    {
     "output_type": "execute_result",
     "data": {
      "text/plain": [
       "        sasid stugrade escaleds eperf2 ecpi mscaleds mperf2 mcpi sscaleds  \\\n",
       "2450  1840155       10      268      A  100      264      A  100      262   \n",
       "\n",
       "     sperf2 scpi  \n",
       "2450      A  100  "
      ],
      "text/html": "<div>\n<style scoped>\n    .dataframe tbody tr th:only-of-type {\n        vertical-align: middle;\n    }\n\n    .dataframe tbody tr th {\n        vertical-align: top;\n    }\n\n    .dataframe thead th {\n        text-align: right;\n    }\n</style>\n<table border=\"1\" class=\"dataframe\">\n  <thead>\n    <tr style=\"text-align: right;\">\n      <th></th>\n      <th>sasid</th>\n      <th>stugrade</th>\n      <th>escaleds</th>\n      <th>eperf2</th>\n      <th>ecpi</th>\n      <th>mscaleds</th>\n      <th>mperf2</th>\n      <th>mcpi</th>\n      <th>sscaleds</th>\n      <th>sperf2</th>\n      <th>scpi</th>\n    </tr>\n  </thead>\n  <tbody>\n    <tr>\n      <th>2450</th>\n      <td>1840155</td>\n      <td>10</td>\n      <td>268</td>\n      <td>A</td>\n      <td>100</td>\n      <td>264</td>\n      <td>A</td>\n      <td>100</td>\n      <td>262</td>\n      <td>A</td>\n      <td>100</td>\n    </tr>\n  </tbody>\n</table>\n</div>"
     },
     "metadata": {},
     "execution_count": 9
    }
   ],
   "source": [
    "df[df.sasid.duplicated()]"
   ]
  },
  {
   "cell_type": "code",
   "execution_count": 10,
   "metadata": {},
   "outputs": [
    {
     "output_type": "execute_result",
     "data": {
      "text/plain": [
       "        sasid stugrade escaleds eperf2 ecpi mscaleds mperf2 mcpi sscaleds  \\\n",
       "1363  1840155        7      254      P  100      258      P  100            \n",
       "2450  1840155       10      268      A  100      264      A  100      262   \n",
       "\n",
       "     sperf2 scpi  \n",
       "1363              \n",
       "2450      A  100  "
      ],
      "text/html": "<div>\n<style scoped>\n    .dataframe tbody tr th:only-of-type {\n        vertical-align: middle;\n    }\n\n    .dataframe tbody tr th {\n        vertical-align: top;\n    }\n\n    .dataframe thead th {\n        text-align: right;\n    }\n</style>\n<table border=\"1\" class=\"dataframe\">\n  <thead>\n    <tr style=\"text-align: right;\">\n      <th></th>\n      <th>sasid</th>\n      <th>stugrade</th>\n      <th>escaleds</th>\n      <th>eperf2</th>\n      <th>ecpi</th>\n      <th>mscaleds</th>\n      <th>mperf2</th>\n      <th>mcpi</th>\n      <th>sscaleds</th>\n      <th>sperf2</th>\n      <th>scpi</th>\n    </tr>\n  </thead>\n  <tbody>\n    <tr>\n      <th>1363</th>\n      <td>1840155</td>\n      <td>7</td>\n      <td>254</td>\n      <td>P</td>\n      <td>100</td>\n      <td>258</td>\n      <td>P</td>\n      <td>100</td>\n      <td></td>\n      <td></td>\n      <td></td>\n    </tr>\n    <tr>\n      <th>2450</th>\n      <td>1840155</td>\n      <td>10</td>\n      <td>268</td>\n      <td>A</td>\n      <td>100</td>\n      <td>264</td>\n      <td>A</td>\n      <td>100</td>\n      <td>262</td>\n      <td>A</td>\n      <td>100</td>\n    </tr>\n  </tbody>\n</table>\n</div>"
     },
     "metadata": {},
     "execution_count": 10
    }
   ],
   "source": [
    "df[df['sasid'] == 1840155]"
   ]
  },
  {
   "cell_type": "markdown",
   "metadata": {},
   "source": [
    "# Missing Test Scores"
   ]
  },
  {
   "cell_type": "markdown",
   "metadata": {},
   "source": [
    "## Missing an entire subject"
   ]
  },
  {
   "cell_type": "code",
   "execution_count": 11,
   "metadata": {},
   "outputs": [
    {
     "output_type": "execute_result",
     "data": {
      "text/plain": [
       "151"
      ]
     },
     "metadata": {},
     "execution_count": 11
    }
   ],
   "source": [
    "missing_ela = df.eperf2.str.isspace() & df.escaleds.str.isspace() & df.ecpi.str.isspace()\n",
    "missing_ela.sum()"
   ]
  },
  {
   "cell_type": "code",
   "execution_count": 12,
   "metadata": {},
   "outputs": [
    {
     "output_type": "execute_result",
     "data": {
      "text/plain": [
       "143"
      ]
     },
     "metadata": {},
     "execution_count": 12
    }
   ],
   "source": [
    "missing_math =  df.mperf2.str.isspace() & df.mscaleds.str.isspace() & df.mcpi.str.isspace()\n",
    "missing_math.sum()"
   ]
  },
  {
   "cell_type": "code",
   "execution_count": 13,
   "metadata": {},
   "outputs": [
    {
     "output_type": "execute_result",
     "data": {
      "text/plain": [
       "1521"
      ]
     },
     "metadata": {},
     "execution_count": 13
    }
   ],
   "source": [
    "missing_science = df.sperf2.str.isspace() & df.sscaleds.str.isspace() & df.scpi.str.isspace()\n",
    "missing_science.sum()"
   ]
  },
  {
   "cell_type": "code",
   "execution_count": 14,
   "metadata": {},
   "outputs": [
    {
     "output_type": "execute_result",
     "data": {
      "text/plain": [
       "1815"
      ]
     },
     "metadata": {},
     "execution_count": 14
    }
   ],
   "source": [
    "total_records_with_missing_subject = missing_ela.sum() + missing_math.sum() + missing_science.sum()\n",
    "total_records_with_missing_subject"
   ]
  },
  {
   "cell_type": "markdown",
   "metadata": {},
   "source": [
    "## Missing ALL subjects"
   ]
  },
  {
   "cell_type": "code",
   "execution_count": 15,
   "metadata": {},
   "outputs": [
    {
     "output_type": "execute_result",
     "data": {
      "text/plain": [
       "33"
      ]
     },
     "metadata": {},
     "execution_count": 15
    }
   ],
   "source": [
    "missing_all_subjects = missing_ela & missing_math & missing_science\n",
    "missing_all_subjects.sum()"
   ]
  },
  {
   "cell_type": "code",
   "execution_count": 16,
   "metadata": {},
   "outputs": [
    {
     "output_type": "execute_result",
     "data": {
      "text/plain": [
       "       sasid stugrade escaleds eperf2 ecpi mscaleds mperf2 mcpi sscaleds  \\\n",
       "260  1645437        4                                                      \n",
       "459  1400344        5                                                      \n",
       "460  1783711        5                                                      \n",
       "467  1617315        5                                                      \n",
       "514  1374770        5                                                      \n",
       "\n",
       "    sperf2 scpi  \n",
       "260              \n",
       "459              \n",
       "460              \n",
       "467              \n",
       "514              "
      ],
      "text/html": "<div>\n<style scoped>\n    .dataframe tbody tr th:only-of-type {\n        vertical-align: middle;\n    }\n\n    .dataframe tbody tr th {\n        vertical-align: top;\n    }\n\n    .dataframe thead th {\n        text-align: right;\n    }\n</style>\n<table border=\"1\" class=\"dataframe\">\n  <thead>\n    <tr style=\"text-align: right;\">\n      <th></th>\n      <th>sasid</th>\n      <th>stugrade</th>\n      <th>escaleds</th>\n      <th>eperf2</th>\n      <th>ecpi</th>\n      <th>mscaleds</th>\n      <th>mperf2</th>\n      <th>mcpi</th>\n      <th>sscaleds</th>\n      <th>sperf2</th>\n      <th>scpi</th>\n    </tr>\n  </thead>\n  <tbody>\n    <tr>\n      <th>260</th>\n      <td>1645437</td>\n      <td>4</td>\n      <td></td>\n      <td></td>\n      <td></td>\n      <td></td>\n      <td></td>\n      <td></td>\n      <td></td>\n      <td></td>\n      <td></td>\n    </tr>\n    <tr>\n      <th>459</th>\n      <td>1400344</td>\n      <td>5</td>\n      <td></td>\n      <td></td>\n      <td></td>\n      <td></td>\n      <td></td>\n      <td></td>\n      <td></td>\n      <td></td>\n      <td></td>\n    </tr>\n    <tr>\n      <th>460</th>\n      <td>1783711</td>\n      <td>5</td>\n      <td></td>\n      <td></td>\n      <td></td>\n      <td></td>\n      <td></td>\n      <td></td>\n      <td></td>\n      <td></td>\n      <td></td>\n    </tr>\n    <tr>\n      <th>467</th>\n      <td>1617315</td>\n      <td>5</td>\n      <td></td>\n      <td></td>\n      <td></td>\n      <td></td>\n      <td></td>\n      <td></td>\n      <td></td>\n      <td></td>\n      <td></td>\n    </tr>\n    <tr>\n      <th>514</th>\n      <td>1374770</td>\n      <td>5</td>\n      <td></td>\n      <td></td>\n      <td></td>\n      <td></td>\n      <td></td>\n      <td></td>\n      <td></td>\n      <td></td>\n      <td></td>\n    </tr>\n  </tbody>\n</table>\n</div>"
     },
     "metadata": {},
     "execution_count": 16
    }
   ],
   "source": [
    "df[missing_all_subjects].head()"
   ]
  },
  {
   "cell_type": "markdown",
   "metadata": {},
   "source": [
    "## Process the data"
   ]
  },
  {
   "cell_type": "code",
   "execution_count": 17,
   "metadata": {},
   "outputs": [],
   "source": [
    "processor = MCASProcessor()"
   ]
  },
  {
   "cell_type": "code",
   "execution_count": 18,
   "metadata": {},
   "outputs": [],
   "source": [
    "df_combined = processor.create_combined_subject_dfs(df, subjects=subjects)"
   ]
  },
  {
   "cell_type": "code",
   "execution_count": 19,
   "metadata": {
    "scrolled": true
   },
   "outputs": [
    {
     "output_type": "stream",
     "name": "stdout",
     "text": [
      "8013\n8013\n"
     ]
    }
   ],
   "source": [
    "# check that each record was copied to each subject df\n",
    "print(len(df_original) * 3)\n",
    "print(len(df_combined))"
   ]
  },
  {
   "cell_type": "code",
   "execution_count": 20,
   "metadata": {},
   "outputs": [
    {
     "output_type": "execute_result",
     "data": {
      "text/plain": [
       "6198"
      ]
     },
     "metadata": {},
     "execution_count": 20
    }
   ],
   "source": [
    "df_no_blanks = processor.remove_rows_with_blankspace_test_scores(df_combined)\n",
    "len(df_no_blanks)"
   ]
  },
  {
   "cell_type": "code",
   "execution_count": 21,
   "metadata": {},
   "outputs": [
    {
     "output_type": "stream",
     "name": "stdout",
     "text": [
      "1815\n1815\n"
     ]
    }
   ],
   "source": [
    "# check that all blank rows are removed\n",
    "rows_with_no_scores_removed = len(df_combined) - len(df_no_blanks)\n",
    "print(rows_with_no_scores_removed)\n",
    "print(total_records_with_missing_subject)"
   ]
  },
  {
   "cell_type": "code",
   "execution_count": 22,
   "metadata": {},
   "outputs": [
    {
     "output_type": "execute_result",
     "data": {
      "text/plain": [
       "P     2395\n",
       "NI    1735\n",
       "A     1192\n",
       "W      660\n",
       "       123\n",
       "F       93\n",
       "Name: Score1Value, dtype: int64"
      ]
     },
     "metadata": {},
     "execution_count": 22
    }
   ],
   "source": [
    "df_no_blanks.Score1Value.value_counts()"
   ]
  },
  {
   "cell_type": "code",
   "execution_count": 23,
   "metadata": {
    "scrolled": false
   },
   "outputs": [],
   "source": [
    "df_final = processor.correct_performance_level_value(df_no_blanks)"
   ]
  },
  {
   "cell_type": "code",
   "execution_count": 24,
   "metadata": {},
   "outputs": [
    {
     "output_type": "execute_result",
     "data": {
      "text/plain": [
       "4 - P     True\n",
       "3 - NI    True\n",
       "5 - A     True\n",
       "2 - W     True\n",
       "          True\n",
       "1 - F     True\n",
       "Name: Score1Value, dtype: bool"
      ]
     },
     "metadata": {},
     "execution_count": 24
    }
   ],
   "source": [
    "# Make sure only labels changed\n",
    "df_final.Score1Value.value_counts() == df_no_blanks.Score1Value.value_counts()"
   ]
  },
  {
   "cell_type": "code",
   "execution_count": 25,
   "metadata": {},
   "outputs": [],
   "source": [
    "# Re-arrange first two rows for correct format\n",
    "df_final = processor.reorder_df_columns(df_final, column_list=output_column_format)"
   ]
  },
  {
   "cell_type": "code",
   "execution_count": 26,
   "metadata": {},
   "outputs": [
    {
     "output_type": "execute_result",
     "data": {
      "text/plain": [
       "      NCESID  StudentTestID StudentLocalID StudentGradeLevel TestDate  \\\n",
       "404   373737        1897772                                4   4/1/20   \n",
       "1764  373737        1565358                                6   5/1/20   \n",
       "750   373737        1664006                                3   4/1/20   \n",
       "266   373737        1787615                                4   5/1/20   \n",
       "487   373737        1588938                                5   6/1/20   \n",
       "37    373737        1322437                                3   4/1/20   \n",
       "2459  373737        1259913                               10   6/1/20   \n",
       "2427  373737        1657063                               10   5/1/20   \n",
       "2555  373737        1927385                               10   6/1/20   \n",
       "1904  373737        1251434                                7   5/1/20   \n",
       "767   373737        1789316                                3   5/1/20   \n",
       "2193  373737        1684750                                8   4/1/20   \n",
       "1086  373737        1397038                                5   6/1/20   \n",
       "315   373737        1330939                                5   5/1/20   \n",
       "1710  373737        1496943                                6   4/1/20   \n",
       "2630  373737        1511019                                3   5/1/20   \n",
       "382   373737        1191523                                3   5/1/20   \n",
       "587   373737        1764157                                4   4/1/20   \n",
       "2360  373737        1759931                               10   6/1/20   \n",
       "1265  373737        1442156                                6   4/1/20   \n",
       "1744  373737        1844439                                6   5/1/20   \n",
       "2463  373737        1283875                               10   4/1/20   \n",
       "620   373737        1501642                                4   4/1/20   \n",
       "119   373737        1256644                                5   4/1/20   \n",
       "921   373737        1523060                                5   4/1/20   \n",
       "2188  373737        1465734                                8   4/1/20   \n",
       "2020  373737        1164711                                8   6/1/20   \n",
       "2061  373737        1852790                                8   6/1/20   \n",
       "2246  373737        1000467                                9   6/1/20   \n",
       "2010  373737        1141657                                7   4/1/20   \n",
       "2588  373737        1686892                               10   5/1/20   \n",
       "1759  373737        1832429                                6   5/1/20   \n",
       "1244  373737        1227867                                6   4/1/20   \n",
       "1680  373737        1177319                                8   5/1/20   \n",
       "694   373737        1732284                                5   4/1/20   \n",
       "343   373737        1278710                                3   5/1/20   \n",
       "272   373737        1753726                                4   5/1/20   \n",
       "727   373737        1995790                                3   5/1/20   \n",
       "564   373737        1087663                                3   5/1/20   \n",
       "1691  373737        1120895                                6   5/1/20   \n",
       "752   373737        1895008                                3   5/1/20   \n",
       "2472  373737        1451638                               10   6/1/20   \n",
       "2390  373737        1506248                               10   4/1/20   \n",
       "1809  373737        1124586                                6   5/1/20   \n",
       "426   373737        1882105                                4   4/1/20   \n",
       "2519  373737        1208882                               10   4/1/20   \n",
       "2309  373737        1754958                               10   5/1/20   \n",
       "2431  373737        1613411                               10   4/1/20   \n",
       "170   373737        1561631                                5   4/1/20   \n",
       "1811  373737        1098731                                6   5/1/20   \n",
       "\n",
       "     TestName  TestTypeName TestSubjectName TestGradeLevel        Score1Label  \\\n",
       "404      MCAS      MCAS ELA             ELA              4  Performance Level   \n",
       "1764     MCAS     MCAS Math            Math              6  Performance Level   \n",
       "750      MCAS      MCAS ELA             ELA              3  Performance Level   \n",
       "266      MCAS     MCAS Math            Math              4  Performance Level   \n",
       "487      MCAS  MCAS Science         Science              5  Performance Level   \n",
       "37       MCAS      MCAS ELA             ELA              3  Performance Level   \n",
       "2459     MCAS  MCAS Science         Science             10  Performance Level   \n",
       "2427     MCAS     MCAS Math            Math             10  Performance Level   \n",
       "2555     MCAS  MCAS Science         Science             10  Performance Level   \n",
       "1904     MCAS     MCAS Math            Math              7  Performance Level   \n",
       "767      MCAS     MCAS Math            Math              3  Performance Level   \n",
       "2193     MCAS      MCAS ELA             ELA              8  Performance Level   \n",
       "1086     MCAS  MCAS Science         Science              5  Performance Level   \n",
       "315      MCAS     MCAS Math            Math              5  Performance Level   \n",
       "1710     MCAS      MCAS ELA             ELA              6  Performance Level   \n",
       "2630     MCAS     MCAS Math            Math              3  Performance Level   \n",
       "382      MCAS     MCAS Math            Math              3  Performance Level   \n",
       "587      MCAS      MCAS ELA             ELA              4  Performance Level   \n",
       "2360     MCAS  MCAS Science         Science             10  Performance Level   \n",
       "1265     MCAS      MCAS ELA             ELA              6  Performance Level   \n",
       "1744     MCAS     MCAS Math            Math              6  Performance Level   \n",
       "2463     MCAS      MCAS ELA             ELA             10  Performance Level   \n",
       "620      MCAS      MCAS ELA             ELA              4  Performance Level   \n",
       "119      MCAS      MCAS ELA             ELA              5  Performance Level   \n",
       "921      MCAS      MCAS ELA             ELA              5  Performance Level   \n",
       "2188     MCAS      MCAS ELA             ELA              8  Performance Level   \n",
       "2020     MCAS  MCAS Science         Science              8  Performance Level   \n",
       "2061     MCAS  MCAS Science         Science              8  Performance Level   \n",
       "2246     MCAS  MCAS Science         Science              9  Performance Level   \n",
       "2010     MCAS      MCAS ELA             ELA              7  Performance Level   \n",
       "2588     MCAS     MCAS Math            Math             10  Performance Level   \n",
       "1759     MCAS     MCAS Math            Math              6  Performance Level   \n",
       "1244     MCAS      MCAS ELA             ELA              6  Performance Level   \n",
       "1680     MCAS     MCAS Math            Math              8  Performance Level   \n",
       "694      MCAS      MCAS ELA             ELA              5  Performance Level   \n",
       "343      MCAS     MCAS Math            Math              3  Performance Level   \n",
       "272      MCAS     MCAS Math            Math              4  Performance Level   \n",
       "727      MCAS     MCAS Math            Math              3  Performance Level   \n",
       "564      MCAS     MCAS Math            Math              3  Performance Level   \n",
       "1691     MCAS     MCAS Math            Math              6  Performance Level   \n",
       "752      MCAS     MCAS Math            Math              3  Performance Level   \n",
       "2472     MCAS  MCAS Science         Science             10  Performance Level   \n",
       "2390     MCAS      MCAS ELA             ELA             10  Performance Level   \n",
       "1809     MCAS     MCAS Math            Math              6  Performance Level   \n",
       "426      MCAS      MCAS ELA             ELA              4  Performance Level   \n",
       "2519     MCAS      MCAS ELA             ELA             10  Performance Level   \n",
       "2309     MCAS     MCAS Math            Math             10  Performance Level   \n",
       "2431     MCAS      MCAS ELA             ELA             10  Performance Level   \n",
       "170      MCAS      MCAS ELA             ELA              5  Performance Level   \n",
       "1811     MCAS     MCAS Math            Math              6  Performance Level   \n",
       "\n",
       "     Score1Type Score1Value   Score2Label Score2Type Score2Value Score3Label  \\\n",
       "404       Level       4 - P  Scaled Score      Scale         242         CPI   \n",
       "1764      Level       4 - P  Scaled Score      Scale         256         CPI   \n",
       "750       Level       5 - A  Scaled Score      Scale         262         CPI   \n",
       "266       Level      3 - NI  Scaled Score      Scale         220         CPI   \n",
       "487       Level      3 - NI  Scaled Score      Scale         222         CPI   \n",
       "37        Level      3 - NI  Scaled Score      Scale         238         CPI   \n",
       "2459      Level       5 - A  Scaled Score      Scale         270         CPI   \n",
       "2427      Level       5 - A  Scaled Score      Scale         264         CPI   \n",
       "2555      Level       5 - A  Scaled Score      Scale         262         CPI   \n",
       "1904      Level       2 - W  Scaled Score      Scale         218         CPI   \n",
       "767       Level       4 - P  Scaled Score      Scale         254         CPI   \n",
       "2193      Level      3 - NI  Scaled Score      Scale         228         CPI   \n",
       "1086      Level      3 - NI  Scaled Score      Scale         224         CPI   \n",
       "315       Level       4 - P  Scaled Score      Scale         244         CPI   \n",
       "1710      Level       4 - P  Scaled Score      Scale         246         CPI   \n",
       "2630      Level      3 - NI  Scaled Score      Scale         234         CPI   \n",
       "382       Level      3 - NI  Scaled Score      Scale         228         CPI   \n",
       "587       Level      3 - NI  Scaled Score      Scale         220         CPI   \n",
       "2360      Level      3 - NI  Scaled Score      Scale         224         CPI   \n",
       "1265      Level       4 - P  Scaled Score      Scale         248         CPI   \n",
       "1744      Level       2 - W  Scaled Score      Scale         214         CPI   \n",
       "2463      Level       5 - A  Scaled Score      Scale         272         CPI   \n",
       "620       Level      3 - NI  Scaled Score      Scale         228         CPI   \n",
       "119       Level       4 - P  Scaled Score      Scale         242         CPI   \n",
       "921       Level      3 - NI  Scaled Score      Scale         238         CPI   \n",
       "2188      Level       4 - P  Scaled Score      Scale         252         CPI   \n",
       "2020      Level      3 - NI  Scaled Score      Scale         230         CPI   \n",
       "2061      Level      3 - NI  Scaled Score      Scale         228         CPI   \n",
       "2246      Level              Scaled Score      Scale         232         CPI   \n",
       "2010      Level      3 - NI  Scaled Score      Scale         236         CPI   \n",
       "2588      Level      3 - NI  Scaled Score      Scale         232         CPI   \n",
       "1759      Level       4 - P  Scaled Score      Scale         248         CPI   \n",
       "1244      Level      3 - NI  Scaled Score      Scale         236         CPI   \n",
       "1680      Level       4 - P  Scaled Score      Scale         256         CPI   \n",
       "694       Level       5 - A  Scaled Score      Scale         266         CPI   \n",
       "343       Level       4 - P  Scaled Score      Scale         256         CPI   \n",
       "272       Level      3 - NI  Scaled Score      Scale         226         CPI   \n",
       "727       Level       2 - W  Scaled Score      Scale         218         CPI   \n",
       "564       Level       4 - P  Scaled Score      Scale         246         CPI   \n",
       "1691      Level       5 - A  Scaled Score      Scale         270         CPI   \n",
       "752       Level       4 - P  Scaled Score      Scale         254         CPI   \n",
       "2472      Level       4 - P  Scaled Score      Scale         250         CPI   \n",
       "2390      Level       5 - A  Scaled Score      Scale         278         CPI   \n",
       "1809      Level      3 - NI  Scaled Score      Scale         238         CPI   \n",
       "426       Level       4 - P  Scaled Score      Scale         254         CPI   \n",
       "2519      Level       4 - P  Scaled Score      Scale         244         CPI   \n",
       "2309      Level       5 - A  Scaled Score      Scale         260         CPI   \n",
       "2431      Level       5 - A  Scaled Score      Scale         272         CPI   \n",
       "170       Level      3 - NI  Scaled Score      Scale         228         CPI   \n",
       "1811      Level       5 - A  Scaled Score      Scale         260         CPI   \n",
       "\n",
       "     Score3Type Score3Value Score4Label Score4Type Score4Value  \n",
       "404       Scale         100                                     \n",
       "1764      Scale         100                                     \n",
       "750       Scale         100                                     \n",
       "266       Scale          50                                     \n",
       "487       Scale          50                                     \n",
       "37        Scale          75                                     \n",
       "2459      Scale         100                                     \n",
       "2427      Scale         100                                     \n",
       "2555      Scale         100                                     \n",
       "1904      Scale          25                                     \n",
       "767       Scale         100                                     \n",
       "2193      Scale          50                                     \n",
       "1086      Scale          50                                     \n",
       "315       Scale         100                                     \n",
       "1710      Scale         100                                     \n",
       "2630      Scale          75                                     \n",
       "382       Scale          50                                     \n",
       "587       Scale          50                                     \n",
       "2360      Scale          50                                     \n",
       "1265      Scale         100                                     \n",
       "1744      Scale          25                                     \n",
       "2463      Scale         100                                     \n",
       "620       Scale          50                                     \n",
       "119       Scale         100                                     \n",
       "921       Scale          75                                     \n",
       "2188      Scale         100                                     \n",
       "2020      Scale          75                                     \n",
       "2061      Scale          50                                     \n",
       "2246      Scale                                                 \n",
       "2010      Scale          75                                     \n",
       "2588      Scale          75                                     \n",
       "1759      Scale         100                                     \n",
       "1244      Scale          75                                     \n",
       "1680      Scale         100                                     \n",
       "694       Scale         100                                     \n",
       "343       Scale         100                                     \n",
       "272       Scale          50                                     \n",
       "727       Scale          25                                     \n",
       "564       Scale         100                                     \n",
       "1691      Scale         100                                     \n",
       "752       Scale         100                                     \n",
       "2472      Scale         100                                     \n",
       "2390      Scale         100                                     \n",
       "1809      Scale          75                                     \n",
       "426       Scale         100                                     \n",
       "2519      Scale         100                                     \n",
       "2309      Scale         100                                     \n",
       "2431      Scale         100                                     \n",
       "170       Scale          50                                     \n",
       "1811      Scale         100                                     "
      ],
      "text/html": "<div>\n<style scoped>\n    .dataframe tbody tr th:only-of-type {\n        vertical-align: middle;\n    }\n\n    .dataframe tbody tr th {\n        vertical-align: top;\n    }\n\n    .dataframe thead th {\n        text-align: right;\n    }\n</style>\n<table border=\"1\" class=\"dataframe\">\n  <thead>\n    <tr style=\"text-align: right;\">\n      <th></th>\n      <th>NCESID</th>\n      <th>StudentTestID</th>\n      <th>StudentLocalID</th>\n      <th>StudentGradeLevel</th>\n      <th>TestDate</th>\n      <th>TestName</th>\n      <th>TestTypeName</th>\n      <th>TestSubjectName</th>\n      <th>TestGradeLevel</th>\n      <th>Score1Label</th>\n      <th>Score1Type</th>\n      <th>Score1Value</th>\n      <th>Score2Label</th>\n      <th>Score2Type</th>\n      <th>Score2Value</th>\n      <th>Score3Label</th>\n      <th>Score3Type</th>\n      <th>Score3Value</th>\n      <th>Score4Label</th>\n      <th>Score4Type</th>\n      <th>Score4Value</th>\n    </tr>\n  </thead>\n  <tbody>\n    <tr>\n      <th>404</th>\n      <td>373737</td>\n      <td>1897772</td>\n      <td></td>\n      <td>4</td>\n      <td>4/1/20</td>\n      <td>MCAS</td>\n      <td>MCAS ELA</td>\n      <td>ELA</td>\n      <td>4</td>\n      <td>Performance Level</td>\n      <td>Level</td>\n      <td>4 - P</td>\n      <td>Scaled Score</td>\n      <td>Scale</td>\n      <td>242</td>\n      <td>CPI</td>\n      <td>Scale</td>\n      <td>100</td>\n      <td></td>\n      <td></td>\n      <td></td>\n    </tr>\n    <tr>\n      <th>1764</th>\n      <td>373737</td>\n      <td>1565358</td>\n      <td></td>\n      <td>6</td>\n      <td>5/1/20</td>\n      <td>MCAS</td>\n      <td>MCAS Math</td>\n      <td>Math</td>\n      <td>6</td>\n      <td>Performance Level</td>\n      <td>Level</td>\n      <td>4 - P</td>\n      <td>Scaled Score</td>\n      <td>Scale</td>\n      <td>256</td>\n      <td>CPI</td>\n      <td>Scale</td>\n      <td>100</td>\n      <td></td>\n      <td></td>\n      <td></td>\n    </tr>\n    <tr>\n      <th>750</th>\n      <td>373737</td>\n      <td>1664006</td>\n      <td></td>\n      <td>3</td>\n      <td>4/1/20</td>\n      <td>MCAS</td>\n      <td>MCAS ELA</td>\n      <td>ELA</td>\n      <td>3</td>\n      <td>Performance Level</td>\n      <td>Level</td>\n      <td>5 - A</td>\n      <td>Scaled Score</td>\n      <td>Scale</td>\n      <td>262</td>\n      <td>CPI</td>\n      <td>Scale</td>\n      <td>100</td>\n      <td></td>\n      <td></td>\n      <td></td>\n    </tr>\n    <tr>\n      <th>266</th>\n      <td>373737</td>\n      <td>1787615</td>\n      <td></td>\n      <td>4</td>\n      <td>5/1/20</td>\n      <td>MCAS</td>\n      <td>MCAS Math</td>\n      <td>Math</td>\n      <td>4</td>\n      <td>Performance Level</td>\n      <td>Level</td>\n      <td>3 - NI</td>\n      <td>Scaled Score</td>\n      <td>Scale</td>\n      <td>220</td>\n      <td>CPI</td>\n      <td>Scale</td>\n      <td>50</td>\n      <td></td>\n      <td></td>\n      <td></td>\n    </tr>\n    <tr>\n      <th>487</th>\n      <td>373737</td>\n      <td>1588938</td>\n      <td></td>\n      <td>5</td>\n      <td>6/1/20</td>\n      <td>MCAS</td>\n      <td>MCAS Science</td>\n      <td>Science</td>\n      <td>5</td>\n      <td>Performance Level</td>\n      <td>Level</td>\n      <td>3 - NI</td>\n      <td>Scaled Score</td>\n      <td>Scale</td>\n      <td>222</td>\n      <td>CPI</td>\n      <td>Scale</td>\n      <td>50</td>\n      <td></td>\n      <td></td>\n      <td></td>\n    </tr>\n    <tr>\n      <th>37</th>\n      <td>373737</td>\n      <td>1322437</td>\n      <td></td>\n      <td>3</td>\n      <td>4/1/20</td>\n      <td>MCAS</td>\n      <td>MCAS ELA</td>\n      <td>ELA</td>\n      <td>3</td>\n      <td>Performance Level</td>\n      <td>Level</td>\n      <td>3 - NI</td>\n      <td>Scaled Score</td>\n      <td>Scale</td>\n      <td>238</td>\n      <td>CPI</td>\n      <td>Scale</td>\n      <td>75</td>\n      <td></td>\n      <td></td>\n      <td></td>\n    </tr>\n    <tr>\n      <th>2459</th>\n      <td>373737</td>\n      <td>1259913</td>\n      <td></td>\n      <td>10</td>\n      <td>6/1/20</td>\n      <td>MCAS</td>\n      <td>MCAS Science</td>\n      <td>Science</td>\n      <td>10</td>\n      <td>Performance Level</td>\n      <td>Level</td>\n      <td>5 - A</td>\n      <td>Scaled Score</td>\n      <td>Scale</td>\n      <td>270</td>\n      <td>CPI</td>\n      <td>Scale</td>\n      <td>100</td>\n      <td></td>\n      <td></td>\n      <td></td>\n    </tr>\n    <tr>\n      <th>2427</th>\n      <td>373737</td>\n      <td>1657063</td>\n      <td></td>\n      <td>10</td>\n      <td>5/1/20</td>\n      <td>MCAS</td>\n      <td>MCAS Math</td>\n      <td>Math</td>\n      <td>10</td>\n      <td>Performance Level</td>\n      <td>Level</td>\n      <td>5 - A</td>\n      <td>Scaled Score</td>\n      <td>Scale</td>\n      <td>264</td>\n      <td>CPI</td>\n      <td>Scale</td>\n      <td>100</td>\n      <td></td>\n      <td></td>\n      <td></td>\n    </tr>\n    <tr>\n      <th>2555</th>\n      <td>373737</td>\n      <td>1927385</td>\n      <td></td>\n      <td>10</td>\n      <td>6/1/20</td>\n      <td>MCAS</td>\n      <td>MCAS Science</td>\n      <td>Science</td>\n      <td>10</td>\n      <td>Performance Level</td>\n      <td>Level</td>\n      <td>5 - A</td>\n      <td>Scaled Score</td>\n      <td>Scale</td>\n      <td>262</td>\n      <td>CPI</td>\n      <td>Scale</td>\n      <td>100</td>\n      <td></td>\n      <td></td>\n      <td></td>\n    </tr>\n    <tr>\n      <th>1904</th>\n      <td>373737</td>\n      <td>1251434</td>\n      <td></td>\n      <td>7</td>\n      <td>5/1/20</td>\n      <td>MCAS</td>\n      <td>MCAS Math</td>\n      <td>Math</td>\n      <td>7</td>\n      <td>Performance Level</td>\n      <td>Level</td>\n      <td>2 - W</td>\n      <td>Scaled Score</td>\n      <td>Scale</td>\n      <td>218</td>\n      <td>CPI</td>\n      <td>Scale</td>\n      <td>25</td>\n      <td></td>\n      <td></td>\n      <td></td>\n    </tr>\n    <tr>\n      <th>767</th>\n      <td>373737</td>\n      <td>1789316</td>\n      <td></td>\n      <td>3</td>\n      <td>5/1/20</td>\n      <td>MCAS</td>\n      <td>MCAS Math</td>\n      <td>Math</td>\n      <td>3</td>\n      <td>Performance Level</td>\n      <td>Level</td>\n      <td>4 - P</td>\n      <td>Scaled Score</td>\n      <td>Scale</td>\n      <td>254</td>\n      <td>CPI</td>\n      <td>Scale</td>\n      <td>100</td>\n      <td></td>\n      <td></td>\n      <td></td>\n    </tr>\n    <tr>\n      <th>2193</th>\n      <td>373737</td>\n      <td>1684750</td>\n      <td></td>\n      <td>8</td>\n      <td>4/1/20</td>\n      <td>MCAS</td>\n      <td>MCAS ELA</td>\n      <td>ELA</td>\n      <td>8</td>\n      <td>Performance Level</td>\n      <td>Level</td>\n      <td>3 - NI</td>\n      <td>Scaled Score</td>\n      <td>Scale</td>\n      <td>228</td>\n      <td>CPI</td>\n      <td>Scale</td>\n      <td>50</td>\n      <td></td>\n      <td></td>\n      <td></td>\n    </tr>\n    <tr>\n      <th>1086</th>\n      <td>373737</td>\n      <td>1397038</td>\n      <td></td>\n      <td>5</td>\n      <td>6/1/20</td>\n      <td>MCAS</td>\n      <td>MCAS Science</td>\n      <td>Science</td>\n      <td>5</td>\n      <td>Performance Level</td>\n      <td>Level</td>\n      <td>3 - NI</td>\n      <td>Scaled Score</td>\n      <td>Scale</td>\n      <td>224</td>\n      <td>CPI</td>\n      <td>Scale</td>\n      <td>50</td>\n      <td></td>\n      <td></td>\n      <td></td>\n    </tr>\n    <tr>\n      <th>315</th>\n      <td>373737</td>\n      <td>1330939</td>\n      <td></td>\n      <td>5</td>\n      <td>5/1/20</td>\n      <td>MCAS</td>\n      <td>MCAS Math</td>\n      <td>Math</td>\n      <td>5</td>\n      <td>Performance Level</td>\n      <td>Level</td>\n      <td>4 - P</td>\n      <td>Scaled Score</td>\n      <td>Scale</td>\n      <td>244</td>\n      <td>CPI</td>\n      <td>Scale</td>\n      <td>100</td>\n      <td></td>\n      <td></td>\n      <td></td>\n    </tr>\n    <tr>\n      <th>1710</th>\n      <td>373737</td>\n      <td>1496943</td>\n      <td></td>\n      <td>6</td>\n      <td>4/1/20</td>\n      <td>MCAS</td>\n      <td>MCAS ELA</td>\n      <td>ELA</td>\n      <td>6</td>\n      <td>Performance Level</td>\n      <td>Level</td>\n      <td>4 - P</td>\n      <td>Scaled Score</td>\n      <td>Scale</td>\n      <td>246</td>\n      <td>CPI</td>\n      <td>Scale</td>\n      <td>100</td>\n      <td></td>\n      <td></td>\n      <td></td>\n    </tr>\n    <tr>\n      <th>2630</th>\n      <td>373737</td>\n      <td>1511019</td>\n      <td></td>\n      <td>3</td>\n      <td>5/1/20</td>\n      <td>MCAS</td>\n      <td>MCAS Math</td>\n      <td>Math</td>\n      <td>3</td>\n      <td>Performance Level</td>\n      <td>Level</td>\n      <td>3 - NI</td>\n      <td>Scaled Score</td>\n      <td>Scale</td>\n      <td>234</td>\n      <td>CPI</td>\n      <td>Scale</td>\n      <td>75</td>\n      <td></td>\n      <td></td>\n      <td></td>\n    </tr>\n    <tr>\n      <th>382</th>\n      <td>373737</td>\n      <td>1191523</td>\n      <td></td>\n      <td>3</td>\n      <td>5/1/20</td>\n      <td>MCAS</td>\n      <td>MCAS Math</td>\n      <td>Math</td>\n      <td>3</td>\n      <td>Performance Level</td>\n      <td>Level</td>\n      <td>3 - NI</td>\n      <td>Scaled Score</td>\n      <td>Scale</td>\n      <td>228</td>\n      <td>CPI</td>\n      <td>Scale</td>\n      <td>50</td>\n      <td></td>\n      <td></td>\n      <td></td>\n    </tr>\n    <tr>\n      <th>587</th>\n      <td>373737</td>\n      <td>1764157</td>\n      <td></td>\n      <td>4</td>\n      <td>4/1/20</td>\n      <td>MCAS</td>\n      <td>MCAS ELA</td>\n      <td>ELA</td>\n      <td>4</td>\n      <td>Performance Level</td>\n      <td>Level</td>\n      <td>3 - NI</td>\n      <td>Scaled Score</td>\n      <td>Scale</td>\n      <td>220</td>\n      <td>CPI</td>\n      <td>Scale</td>\n      <td>50</td>\n      <td></td>\n      <td></td>\n      <td></td>\n    </tr>\n    <tr>\n      <th>2360</th>\n      <td>373737</td>\n      <td>1759931</td>\n      <td></td>\n      <td>10</td>\n      <td>6/1/20</td>\n      <td>MCAS</td>\n      <td>MCAS Science</td>\n      <td>Science</td>\n      <td>10</td>\n      <td>Performance Level</td>\n      <td>Level</td>\n      <td>3 - NI</td>\n      <td>Scaled Score</td>\n      <td>Scale</td>\n      <td>224</td>\n      <td>CPI</td>\n      <td>Scale</td>\n      <td>50</td>\n      <td></td>\n      <td></td>\n      <td></td>\n    </tr>\n    <tr>\n      <th>1265</th>\n      <td>373737</td>\n      <td>1442156</td>\n      <td></td>\n      <td>6</td>\n      <td>4/1/20</td>\n      <td>MCAS</td>\n      <td>MCAS ELA</td>\n      <td>ELA</td>\n      <td>6</td>\n      <td>Performance Level</td>\n      <td>Level</td>\n      <td>4 - P</td>\n      <td>Scaled Score</td>\n      <td>Scale</td>\n      <td>248</td>\n      <td>CPI</td>\n      <td>Scale</td>\n      <td>100</td>\n      <td></td>\n      <td></td>\n      <td></td>\n    </tr>\n    <tr>\n      <th>1744</th>\n      <td>373737</td>\n      <td>1844439</td>\n      <td></td>\n      <td>6</td>\n      <td>5/1/20</td>\n      <td>MCAS</td>\n      <td>MCAS Math</td>\n      <td>Math</td>\n      <td>6</td>\n      <td>Performance Level</td>\n      <td>Level</td>\n      <td>2 - W</td>\n      <td>Scaled Score</td>\n      <td>Scale</td>\n      <td>214</td>\n      <td>CPI</td>\n      <td>Scale</td>\n      <td>25</td>\n      <td></td>\n      <td></td>\n      <td></td>\n    </tr>\n    <tr>\n      <th>2463</th>\n      <td>373737</td>\n      <td>1283875</td>\n      <td></td>\n      <td>10</td>\n      <td>4/1/20</td>\n      <td>MCAS</td>\n      <td>MCAS ELA</td>\n      <td>ELA</td>\n      <td>10</td>\n      <td>Performance Level</td>\n      <td>Level</td>\n      <td>5 - A</td>\n      <td>Scaled Score</td>\n      <td>Scale</td>\n      <td>272</td>\n      <td>CPI</td>\n      <td>Scale</td>\n      <td>100</td>\n      <td></td>\n      <td></td>\n      <td></td>\n    </tr>\n    <tr>\n      <th>620</th>\n      <td>373737</td>\n      <td>1501642</td>\n      <td></td>\n      <td>4</td>\n      <td>4/1/20</td>\n      <td>MCAS</td>\n      <td>MCAS ELA</td>\n      <td>ELA</td>\n      <td>4</td>\n      <td>Performance Level</td>\n      <td>Level</td>\n      <td>3 - NI</td>\n      <td>Scaled Score</td>\n      <td>Scale</td>\n      <td>228</td>\n      <td>CPI</td>\n      <td>Scale</td>\n      <td>50</td>\n      <td></td>\n      <td></td>\n      <td></td>\n    </tr>\n    <tr>\n      <th>119</th>\n      <td>373737</td>\n      <td>1256644</td>\n      <td></td>\n      <td>5</td>\n      <td>4/1/20</td>\n      <td>MCAS</td>\n      <td>MCAS ELA</td>\n      <td>ELA</td>\n      <td>5</td>\n      <td>Performance Level</td>\n      <td>Level</td>\n      <td>4 - P</td>\n      <td>Scaled Score</td>\n      <td>Scale</td>\n      <td>242</td>\n      <td>CPI</td>\n      <td>Scale</td>\n      <td>100</td>\n      <td></td>\n      <td></td>\n      <td></td>\n    </tr>\n    <tr>\n      <th>921</th>\n      <td>373737</td>\n      <td>1523060</td>\n      <td></td>\n      <td>5</td>\n      <td>4/1/20</td>\n      <td>MCAS</td>\n      <td>MCAS ELA</td>\n      <td>ELA</td>\n      <td>5</td>\n      <td>Performance Level</td>\n      <td>Level</td>\n      <td>3 - NI</td>\n      <td>Scaled Score</td>\n      <td>Scale</td>\n      <td>238</td>\n      <td>CPI</td>\n      <td>Scale</td>\n      <td>75</td>\n      <td></td>\n      <td></td>\n      <td></td>\n    </tr>\n    <tr>\n      <th>2188</th>\n      <td>373737</td>\n      <td>1465734</td>\n      <td></td>\n      <td>8</td>\n      <td>4/1/20</td>\n      <td>MCAS</td>\n      <td>MCAS ELA</td>\n      <td>ELA</td>\n      <td>8</td>\n      <td>Performance Level</td>\n      <td>Level</td>\n      <td>4 - P</td>\n      <td>Scaled Score</td>\n      <td>Scale</td>\n      <td>252</td>\n      <td>CPI</td>\n      <td>Scale</td>\n      <td>100</td>\n      <td></td>\n      <td></td>\n      <td></td>\n    </tr>\n    <tr>\n      <th>2020</th>\n      <td>373737</td>\n      <td>1164711</td>\n      <td></td>\n      <td>8</td>\n      <td>6/1/20</td>\n      <td>MCAS</td>\n      <td>MCAS Science</td>\n      <td>Science</td>\n      <td>8</td>\n      <td>Performance Level</td>\n      <td>Level</td>\n      <td>3 - NI</td>\n      <td>Scaled Score</td>\n      <td>Scale</td>\n      <td>230</td>\n      <td>CPI</td>\n      <td>Scale</td>\n      <td>75</td>\n      <td></td>\n      <td></td>\n      <td></td>\n    </tr>\n    <tr>\n      <th>2061</th>\n      <td>373737</td>\n      <td>1852790</td>\n      <td></td>\n      <td>8</td>\n      <td>6/1/20</td>\n      <td>MCAS</td>\n      <td>MCAS Science</td>\n      <td>Science</td>\n      <td>8</td>\n      <td>Performance Level</td>\n      <td>Level</td>\n      <td>3 - NI</td>\n      <td>Scaled Score</td>\n      <td>Scale</td>\n      <td>228</td>\n      <td>CPI</td>\n      <td>Scale</td>\n      <td>50</td>\n      <td></td>\n      <td></td>\n      <td></td>\n    </tr>\n    <tr>\n      <th>2246</th>\n      <td>373737</td>\n      <td>1000467</td>\n      <td></td>\n      <td>9</td>\n      <td>6/1/20</td>\n      <td>MCAS</td>\n      <td>MCAS Science</td>\n      <td>Science</td>\n      <td>9</td>\n      <td>Performance Level</td>\n      <td>Level</td>\n      <td></td>\n      <td>Scaled Score</td>\n      <td>Scale</td>\n      <td>232</td>\n      <td>CPI</td>\n      <td>Scale</td>\n      <td></td>\n      <td></td>\n      <td></td>\n      <td></td>\n    </tr>\n    <tr>\n      <th>2010</th>\n      <td>373737</td>\n      <td>1141657</td>\n      <td></td>\n      <td>7</td>\n      <td>4/1/20</td>\n      <td>MCAS</td>\n      <td>MCAS ELA</td>\n      <td>ELA</td>\n      <td>7</td>\n      <td>Performance Level</td>\n      <td>Level</td>\n      <td>3 - NI</td>\n      <td>Scaled Score</td>\n      <td>Scale</td>\n      <td>236</td>\n      <td>CPI</td>\n      <td>Scale</td>\n      <td>75</td>\n      <td></td>\n      <td></td>\n      <td></td>\n    </tr>\n    <tr>\n      <th>2588</th>\n      <td>373737</td>\n      <td>1686892</td>\n      <td></td>\n      <td>10</td>\n      <td>5/1/20</td>\n      <td>MCAS</td>\n      <td>MCAS Math</td>\n      <td>Math</td>\n      <td>10</td>\n      <td>Performance Level</td>\n      <td>Level</td>\n      <td>3 - NI</td>\n      <td>Scaled Score</td>\n      <td>Scale</td>\n      <td>232</td>\n      <td>CPI</td>\n      <td>Scale</td>\n      <td>75</td>\n      <td></td>\n      <td></td>\n      <td></td>\n    </tr>\n    <tr>\n      <th>1759</th>\n      <td>373737</td>\n      <td>1832429</td>\n      <td></td>\n      <td>6</td>\n      <td>5/1/20</td>\n      <td>MCAS</td>\n      <td>MCAS Math</td>\n      <td>Math</td>\n      <td>6</td>\n      <td>Performance Level</td>\n      <td>Level</td>\n      <td>4 - P</td>\n      <td>Scaled Score</td>\n      <td>Scale</td>\n      <td>248</td>\n      <td>CPI</td>\n      <td>Scale</td>\n      <td>100</td>\n      <td></td>\n      <td></td>\n      <td></td>\n    </tr>\n    <tr>\n      <th>1244</th>\n      <td>373737</td>\n      <td>1227867</td>\n      <td></td>\n      <td>6</td>\n      <td>4/1/20</td>\n      <td>MCAS</td>\n      <td>MCAS ELA</td>\n      <td>ELA</td>\n      <td>6</td>\n      <td>Performance Level</td>\n      <td>Level</td>\n      <td>3 - NI</td>\n      <td>Scaled Score</td>\n      <td>Scale</td>\n      <td>236</td>\n      <td>CPI</td>\n      <td>Scale</td>\n      <td>75</td>\n      <td></td>\n      <td></td>\n      <td></td>\n    </tr>\n    <tr>\n      <th>1680</th>\n      <td>373737</td>\n      <td>1177319</td>\n      <td></td>\n      <td>8</td>\n      <td>5/1/20</td>\n      <td>MCAS</td>\n      <td>MCAS Math</td>\n      <td>Math</td>\n      <td>8</td>\n      <td>Performance Level</td>\n      <td>Level</td>\n      <td>4 - P</td>\n      <td>Scaled Score</td>\n      <td>Scale</td>\n      <td>256</td>\n      <td>CPI</td>\n      <td>Scale</td>\n      <td>100</td>\n      <td></td>\n      <td></td>\n      <td></td>\n    </tr>\n    <tr>\n      <th>694</th>\n      <td>373737</td>\n      <td>1732284</td>\n      <td></td>\n      <td>5</td>\n      <td>4/1/20</td>\n      <td>MCAS</td>\n      <td>MCAS ELA</td>\n      <td>ELA</td>\n      <td>5</td>\n      <td>Performance Level</td>\n      <td>Level</td>\n      <td>5 - A</td>\n      <td>Scaled Score</td>\n      <td>Scale</td>\n      <td>266</td>\n      <td>CPI</td>\n      <td>Scale</td>\n      <td>100</td>\n      <td></td>\n      <td></td>\n      <td></td>\n    </tr>\n    <tr>\n      <th>343</th>\n      <td>373737</td>\n      <td>1278710</td>\n      <td></td>\n      <td>3</td>\n      <td>5/1/20</td>\n      <td>MCAS</td>\n      <td>MCAS Math</td>\n      <td>Math</td>\n      <td>3</td>\n      <td>Performance Level</td>\n      <td>Level</td>\n      <td>4 - P</td>\n      <td>Scaled Score</td>\n      <td>Scale</td>\n      <td>256</td>\n      <td>CPI</td>\n      <td>Scale</td>\n      <td>100</td>\n      <td></td>\n      <td></td>\n      <td></td>\n    </tr>\n    <tr>\n      <th>272</th>\n      <td>373737</td>\n      <td>1753726</td>\n      <td></td>\n      <td>4</td>\n      <td>5/1/20</td>\n      <td>MCAS</td>\n      <td>MCAS Math</td>\n      <td>Math</td>\n      <td>4</td>\n      <td>Performance Level</td>\n      <td>Level</td>\n      <td>3 - NI</td>\n      <td>Scaled Score</td>\n      <td>Scale</td>\n      <td>226</td>\n      <td>CPI</td>\n      <td>Scale</td>\n      <td>50</td>\n      <td></td>\n      <td></td>\n      <td></td>\n    </tr>\n    <tr>\n      <th>727</th>\n      <td>373737</td>\n      <td>1995790</td>\n      <td></td>\n      <td>3</td>\n      <td>5/1/20</td>\n      <td>MCAS</td>\n      <td>MCAS Math</td>\n      <td>Math</td>\n      <td>3</td>\n      <td>Performance Level</td>\n      <td>Level</td>\n      <td>2 - W</td>\n      <td>Scaled Score</td>\n      <td>Scale</td>\n      <td>218</td>\n      <td>CPI</td>\n      <td>Scale</td>\n      <td>25</td>\n      <td></td>\n      <td></td>\n      <td></td>\n    </tr>\n    <tr>\n      <th>564</th>\n      <td>373737</td>\n      <td>1087663</td>\n      <td></td>\n      <td>3</td>\n      <td>5/1/20</td>\n      <td>MCAS</td>\n      <td>MCAS Math</td>\n      <td>Math</td>\n      <td>3</td>\n      <td>Performance Level</td>\n      <td>Level</td>\n      <td>4 - P</td>\n      <td>Scaled Score</td>\n      <td>Scale</td>\n      <td>246</td>\n      <td>CPI</td>\n      <td>Scale</td>\n      <td>100</td>\n      <td></td>\n      <td></td>\n      <td></td>\n    </tr>\n    <tr>\n      <th>1691</th>\n      <td>373737</td>\n      <td>1120895</td>\n      <td></td>\n      <td>6</td>\n      <td>5/1/20</td>\n      <td>MCAS</td>\n      <td>MCAS Math</td>\n      <td>Math</td>\n      <td>6</td>\n      <td>Performance Level</td>\n      <td>Level</td>\n      <td>5 - A</td>\n      <td>Scaled Score</td>\n      <td>Scale</td>\n      <td>270</td>\n      <td>CPI</td>\n      <td>Scale</td>\n      <td>100</td>\n      <td></td>\n      <td></td>\n      <td></td>\n    </tr>\n    <tr>\n      <th>752</th>\n      <td>373737</td>\n      <td>1895008</td>\n      <td></td>\n      <td>3</td>\n      <td>5/1/20</td>\n      <td>MCAS</td>\n      <td>MCAS Math</td>\n      <td>Math</td>\n      <td>3</td>\n      <td>Performance Level</td>\n      <td>Level</td>\n      <td>4 - P</td>\n      <td>Scaled Score</td>\n      <td>Scale</td>\n      <td>254</td>\n      <td>CPI</td>\n      <td>Scale</td>\n      <td>100</td>\n      <td></td>\n      <td></td>\n      <td></td>\n    </tr>\n    <tr>\n      <th>2472</th>\n      <td>373737</td>\n      <td>1451638</td>\n      <td></td>\n      <td>10</td>\n      <td>6/1/20</td>\n      <td>MCAS</td>\n      <td>MCAS Science</td>\n      <td>Science</td>\n      <td>10</td>\n      <td>Performance Level</td>\n      <td>Level</td>\n      <td>4 - P</td>\n      <td>Scaled Score</td>\n      <td>Scale</td>\n      <td>250</td>\n      <td>CPI</td>\n      <td>Scale</td>\n      <td>100</td>\n      <td></td>\n      <td></td>\n      <td></td>\n    </tr>\n    <tr>\n      <th>2390</th>\n      <td>373737</td>\n      <td>1506248</td>\n      <td></td>\n      <td>10</td>\n      <td>4/1/20</td>\n      <td>MCAS</td>\n      <td>MCAS ELA</td>\n      <td>ELA</td>\n      <td>10</td>\n      <td>Performance Level</td>\n      <td>Level</td>\n      <td>5 - A</td>\n      <td>Scaled Score</td>\n      <td>Scale</td>\n      <td>278</td>\n      <td>CPI</td>\n      <td>Scale</td>\n      <td>100</td>\n      <td></td>\n      <td></td>\n      <td></td>\n    </tr>\n    <tr>\n      <th>1809</th>\n      <td>373737</td>\n      <td>1124586</td>\n      <td></td>\n      <td>6</td>\n      <td>5/1/20</td>\n      <td>MCAS</td>\n      <td>MCAS Math</td>\n      <td>Math</td>\n      <td>6</td>\n      <td>Performance Level</td>\n      <td>Level</td>\n      <td>3 - NI</td>\n      <td>Scaled Score</td>\n      <td>Scale</td>\n      <td>238</td>\n      <td>CPI</td>\n      <td>Scale</td>\n      <td>75</td>\n      <td></td>\n      <td></td>\n      <td></td>\n    </tr>\n    <tr>\n      <th>426</th>\n      <td>373737</td>\n      <td>1882105</td>\n      <td></td>\n      <td>4</td>\n      <td>4/1/20</td>\n      <td>MCAS</td>\n      <td>MCAS ELA</td>\n      <td>ELA</td>\n      <td>4</td>\n      <td>Performance Level</td>\n      <td>Level</td>\n      <td>4 - P</td>\n      <td>Scaled Score</td>\n      <td>Scale</td>\n      <td>254</td>\n      <td>CPI</td>\n      <td>Scale</td>\n      <td>100</td>\n      <td></td>\n      <td></td>\n      <td></td>\n    </tr>\n    <tr>\n      <th>2519</th>\n      <td>373737</td>\n      <td>1208882</td>\n      <td></td>\n      <td>10</td>\n      <td>4/1/20</td>\n      <td>MCAS</td>\n      <td>MCAS ELA</td>\n      <td>ELA</td>\n      <td>10</td>\n      <td>Performance Level</td>\n      <td>Level</td>\n      <td>4 - P</td>\n      <td>Scaled Score</td>\n      <td>Scale</td>\n      <td>244</td>\n      <td>CPI</td>\n      <td>Scale</td>\n      <td>100</td>\n      <td></td>\n      <td></td>\n      <td></td>\n    </tr>\n    <tr>\n      <th>2309</th>\n      <td>373737</td>\n      <td>1754958</td>\n      <td></td>\n      <td>10</td>\n      <td>5/1/20</td>\n      <td>MCAS</td>\n      <td>MCAS Math</td>\n      <td>Math</td>\n      <td>10</td>\n      <td>Performance Level</td>\n      <td>Level</td>\n      <td>5 - A</td>\n      <td>Scaled Score</td>\n      <td>Scale</td>\n      <td>260</td>\n      <td>CPI</td>\n      <td>Scale</td>\n      <td>100</td>\n      <td></td>\n      <td></td>\n      <td></td>\n    </tr>\n    <tr>\n      <th>2431</th>\n      <td>373737</td>\n      <td>1613411</td>\n      <td></td>\n      <td>10</td>\n      <td>4/1/20</td>\n      <td>MCAS</td>\n      <td>MCAS ELA</td>\n      <td>ELA</td>\n      <td>10</td>\n      <td>Performance Level</td>\n      <td>Level</td>\n      <td>5 - A</td>\n      <td>Scaled Score</td>\n      <td>Scale</td>\n      <td>272</td>\n      <td>CPI</td>\n      <td>Scale</td>\n      <td>100</td>\n      <td></td>\n      <td></td>\n      <td></td>\n    </tr>\n    <tr>\n      <th>170</th>\n      <td>373737</td>\n      <td>1561631</td>\n      <td></td>\n      <td>5</td>\n      <td>4/1/20</td>\n      <td>MCAS</td>\n      <td>MCAS ELA</td>\n      <td>ELA</td>\n      <td>5</td>\n      <td>Performance Level</td>\n      <td>Level</td>\n      <td>3 - NI</td>\n      <td>Scaled Score</td>\n      <td>Scale</td>\n      <td>228</td>\n      <td>CPI</td>\n      <td>Scale</td>\n      <td>50</td>\n      <td></td>\n      <td></td>\n      <td></td>\n    </tr>\n    <tr>\n      <th>1811</th>\n      <td>373737</td>\n      <td>1098731</td>\n      <td></td>\n      <td>6</td>\n      <td>5/1/20</td>\n      <td>MCAS</td>\n      <td>MCAS Math</td>\n      <td>Math</td>\n      <td>6</td>\n      <td>Performance Level</td>\n      <td>Level</td>\n      <td>5 - A</td>\n      <td>Scaled Score</td>\n      <td>Scale</td>\n      <td>260</td>\n      <td>CPI</td>\n      <td>Scale</td>\n      <td>100</td>\n      <td></td>\n      <td></td>\n      <td></td>\n    </tr>\n  </tbody>\n</table>\n</div>"
     },
     "metadata": {},
     "execution_count": 26
    }
   ],
   "source": [
    "# Looks correct\n",
    "df_final.sample(50)"
   ]
  },
  {
   "cell_type": "code",
   "execution_count": 27,
   "metadata": {},
   "outputs": [],
   "source": [
    "# Save with different, silly file name\n",
    "df_final.to_csv(f'{filename.stem}_processorized.csv', index=False)"
   ]
  },
  {
   "cell_type": "markdown",
   "metadata": {},
   "source": [
    "# !!! Sanity Checks\n",
    "---"
   ]
  },
  {
   "cell_type": "code",
   "execution_count": 28,
   "metadata": {},
   "outputs": [
    {
     "output_type": "execute_result",
     "data": {
      "text/plain": [
       "123"
      ]
     },
     "metadata": {},
     "execution_count": 28
    }
   ],
   "source": [
    "no_first_test_records = df_final.Score1Value.str.isspace()\n",
    "no_first_test_records.sum()"
   ]
  },
  {
   "cell_type": "code",
   "execution_count": 29,
   "metadata": {},
   "outputs": [
    {
     "output_type": "execute_result",
     "data": {
      "text/plain": [
       "146"
      ]
     },
     "metadata": {},
     "execution_count": 29
    }
   ],
   "source": [
    "no_second_test_records = df_final.Score2Value.str.isspace()\n",
    "no_second_test_records.sum()"
   ]
  },
  {
   "cell_type": "code",
   "execution_count": 30,
   "metadata": {},
   "outputs": [
    {
     "output_type": "execute_result",
     "data": {
      "text/plain": [
       "123"
      ]
     },
     "metadata": {},
     "execution_count": 30
    }
   ],
   "source": [
    "no_third_test_records = df_final.Score3Value.str.isspace()\n",
    "no_third_test_records.sum()"
   ]
  },
  {
   "cell_type": "code",
   "execution_count": 31,
   "metadata": {},
   "outputs": [
    {
     "output_type": "execute_result",
     "data": {
      "text/plain": [
       "0"
      ]
     },
     "metadata": {},
     "execution_count": 31
    }
   ],
   "source": [
    "# check that there are no blank rows\n",
    "(no_first_test_records & no_second_test_records & no_third_test_records).sum()"
   ]
  },
  {
   "cell_type": "code",
   "execution_count": 32,
   "metadata": {},
   "outputs": [
    {
     "output_type": "execute_result",
     "data": {
      "text/plain": [
       "True"
      ]
     },
     "metadata": {},
     "execution_count": 32
    }
   ],
   "source": [
    "# Some students only have scaled score, data is not randomly missing\n",
    "no_first_test_records.all() == no_third_test_records.all()"
   ]
  },
  {
   "cell_type": "markdown",
   "metadata": {},
   "source": [
    "# Check original against output\n",
    "Records chosen by random selection for an example of:\n",
    "- Completely removing a record with no test scores\n",
    "- Removing only the subject rows that are missing\n",
    "- Leaving full records intact"
   ]
  },
  {
   "cell_type": "markdown",
   "metadata": {},
   "source": [
    "## No missing scores"
   ]
  },
  {
   "cell_type": "code",
   "execution_count": 33,
   "metadata": {},
   "outputs": [
    {
     "output_type": "execute_result",
     "data": {
      "text/plain": [
       "        sasid stugrade escaleds eperf2 ecpi mscaleds mperf2 mcpi sscaleds  \\\n",
       "2478  1681372       10      242      P  100      224     NI   50      234   \n",
       "\n",
       "     sperf2 scpi  \n",
       "2478     NI   75  "
      ],
      "text/html": "<div>\n<style scoped>\n    .dataframe tbody tr th:only-of-type {\n        vertical-align: middle;\n    }\n\n    .dataframe tbody tr th {\n        vertical-align: top;\n    }\n\n    .dataframe thead th {\n        text-align: right;\n    }\n</style>\n<table border=\"1\" class=\"dataframe\">\n  <thead>\n    <tr style=\"text-align: right;\">\n      <th></th>\n      <th>sasid</th>\n      <th>stugrade</th>\n      <th>escaleds</th>\n      <th>eperf2</th>\n      <th>ecpi</th>\n      <th>mscaleds</th>\n      <th>mperf2</th>\n      <th>mcpi</th>\n      <th>sscaleds</th>\n      <th>sperf2</th>\n      <th>scpi</th>\n    </tr>\n  </thead>\n  <tbody>\n    <tr>\n      <th>2478</th>\n      <td>1681372</td>\n      <td>10</td>\n      <td>242</td>\n      <td>P</td>\n      <td>100</td>\n      <td>224</td>\n      <td>NI</td>\n      <td>50</td>\n      <td>234</td>\n      <td>NI</td>\n      <td>75</td>\n    </tr>\n  </tbody>\n</table>\n</div>"
     },
     "metadata": {},
     "execution_count": 33
    }
   ],
   "source": [
    "# no scores missing\n",
    "df_original.loc[df_original['sasid'] == 1681372]"
   ]
  },
  {
   "cell_type": "code",
   "execution_count": 34,
   "metadata": {},
   "outputs": [
    {
     "output_type": "execute_result",
     "data": {
      "text/plain": [
       "      StudentTestID  NCESID StudentLocalID StudentGradeLevel TestDate  \\\n",
       "2478        1681372  373737                               10   4/1/20   \n",
       "2478        1681372  373737                               10   5/1/20   \n",
       "2478        1681372  373737                               10   6/1/20   \n",
       "\n",
       "     TestName  TestTypeName TestSubjectName TestGradeLevel        Score1Label  \\\n",
       "2478     MCAS      MCAS ELA             ELA             10  Performance Level   \n",
       "2478     MCAS     MCAS Math            Math             10  Performance Level   \n",
       "2478     MCAS  MCAS Science         Science             10  Performance Level   \n",
       "\n",
       "     Score1Type Score1Value   Score2Label Score2Type Score2Value Score3Label  \\\n",
       "2478      Level           P  Scaled Score      Scale         242         CPI   \n",
       "2478      Level          NI  Scaled Score      Scale         224         CPI   \n",
       "2478      Level          NI  Scaled Score      Scale         234         CPI   \n",
       "\n",
       "     Score3Type Score3Value Score4Label Score4Type Score4Value  \n",
       "2478      Scale         100                                     \n",
       "2478      Scale          50                                     \n",
       "2478      Scale          75                                     "
      ],
      "text/html": "<div>\n<style scoped>\n    .dataframe tbody tr th:only-of-type {\n        vertical-align: middle;\n    }\n\n    .dataframe tbody tr th {\n        vertical-align: top;\n    }\n\n    .dataframe thead th {\n        text-align: right;\n    }\n</style>\n<table border=\"1\" class=\"dataframe\">\n  <thead>\n    <tr style=\"text-align: right;\">\n      <th></th>\n      <th>StudentTestID</th>\n      <th>NCESID</th>\n      <th>StudentLocalID</th>\n      <th>StudentGradeLevel</th>\n      <th>TestDate</th>\n      <th>TestName</th>\n      <th>TestTypeName</th>\n      <th>TestSubjectName</th>\n      <th>TestGradeLevel</th>\n      <th>Score1Label</th>\n      <th>Score1Type</th>\n      <th>Score1Value</th>\n      <th>Score2Label</th>\n      <th>Score2Type</th>\n      <th>Score2Value</th>\n      <th>Score3Label</th>\n      <th>Score3Type</th>\n      <th>Score3Value</th>\n      <th>Score4Label</th>\n      <th>Score4Type</th>\n      <th>Score4Value</th>\n    </tr>\n  </thead>\n  <tbody>\n    <tr>\n      <th>2478</th>\n      <td>1681372</td>\n      <td>373737</td>\n      <td></td>\n      <td>10</td>\n      <td>4/1/20</td>\n      <td>MCAS</td>\n      <td>MCAS ELA</td>\n      <td>ELA</td>\n      <td>10</td>\n      <td>Performance Level</td>\n      <td>Level</td>\n      <td>P</td>\n      <td>Scaled Score</td>\n      <td>Scale</td>\n      <td>242</td>\n      <td>CPI</td>\n      <td>Scale</td>\n      <td>100</td>\n      <td></td>\n      <td></td>\n      <td></td>\n    </tr>\n    <tr>\n      <th>2478</th>\n      <td>1681372</td>\n      <td>373737</td>\n      <td></td>\n      <td>10</td>\n      <td>5/1/20</td>\n      <td>MCAS</td>\n      <td>MCAS Math</td>\n      <td>Math</td>\n      <td>10</td>\n      <td>Performance Level</td>\n      <td>Level</td>\n      <td>NI</td>\n      <td>Scaled Score</td>\n      <td>Scale</td>\n      <td>224</td>\n      <td>CPI</td>\n      <td>Scale</td>\n      <td>50</td>\n      <td></td>\n      <td></td>\n      <td></td>\n    </tr>\n    <tr>\n      <th>2478</th>\n      <td>1681372</td>\n      <td>373737</td>\n      <td></td>\n      <td>10</td>\n      <td>6/1/20</td>\n      <td>MCAS</td>\n      <td>MCAS Science</td>\n      <td>Science</td>\n      <td>10</td>\n      <td>Performance Level</td>\n      <td>Level</td>\n      <td>NI</td>\n      <td>Scaled Score</td>\n      <td>Scale</td>\n      <td>234</td>\n      <td>CPI</td>\n      <td>Scale</td>\n      <td>75</td>\n      <td></td>\n      <td></td>\n      <td></td>\n    </tr>\n  </tbody>\n</table>\n</div>"
     },
     "metadata": {},
     "execution_count": 34
    }
   ],
   "source": [
    "# three rows, one per subject\n",
    "df_combined.loc[df_combined['StudentTestID'] == 1681372]"
   ]
  },
  {
   "cell_type": "code",
   "execution_count": 35,
   "metadata": {},
   "outputs": [
    {
     "output_type": "execute_result",
     "data": {
      "text/plain": [
       "      NCESID  StudentTestID StudentLocalID StudentGradeLevel TestDate  \\\n",
       "2478  373737        1681372                               10   4/1/20   \n",
       "2478  373737        1681372                               10   5/1/20   \n",
       "2478  373737        1681372                               10   6/1/20   \n",
       "\n",
       "     TestName  TestTypeName TestSubjectName TestGradeLevel        Score1Label  \\\n",
       "2478     MCAS      MCAS ELA             ELA             10  Performance Level   \n",
       "2478     MCAS     MCAS Math            Math             10  Performance Level   \n",
       "2478     MCAS  MCAS Science         Science             10  Performance Level   \n",
       "\n",
       "     Score1Type Score1Value   Score2Label Score2Type Score2Value Score3Label  \\\n",
       "2478      Level       4 - P  Scaled Score      Scale         242         CPI   \n",
       "2478      Level      3 - NI  Scaled Score      Scale         224         CPI   \n",
       "2478      Level      3 - NI  Scaled Score      Scale         234         CPI   \n",
       "\n",
       "     Score3Type Score3Value Score4Label Score4Type Score4Value  \n",
       "2478      Scale         100                                     \n",
       "2478      Scale          50                                     \n",
       "2478      Scale          75                                     "
      ],
      "text/html": "<div>\n<style scoped>\n    .dataframe tbody tr th:only-of-type {\n        vertical-align: middle;\n    }\n\n    .dataframe tbody tr th {\n        vertical-align: top;\n    }\n\n    .dataframe thead th {\n        text-align: right;\n    }\n</style>\n<table border=\"1\" class=\"dataframe\">\n  <thead>\n    <tr style=\"text-align: right;\">\n      <th></th>\n      <th>NCESID</th>\n      <th>StudentTestID</th>\n      <th>StudentLocalID</th>\n      <th>StudentGradeLevel</th>\n      <th>TestDate</th>\n      <th>TestName</th>\n      <th>TestTypeName</th>\n      <th>TestSubjectName</th>\n      <th>TestGradeLevel</th>\n      <th>Score1Label</th>\n      <th>Score1Type</th>\n      <th>Score1Value</th>\n      <th>Score2Label</th>\n      <th>Score2Type</th>\n      <th>Score2Value</th>\n      <th>Score3Label</th>\n      <th>Score3Type</th>\n      <th>Score3Value</th>\n      <th>Score4Label</th>\n      <th>Score4Type</th>\n      <th>Score4Value</th>\n    </tr>\n  </thead>\n  <tbody>\n    <tr>\n      <th>2478</th>\n      <td>373737</td>\n      <td>1681372</td>\n      <td></td>\n      <td>10</td>\n      <td>4/1/20</td>\n      <td>MCAS</td>\n      <td>MCAS ELA</td>\n      <td>ELA</td>\n      <td>10</td>\n      <td>Performance Level</td>\n      <td>Level</td>\n      <td>4 - P</td>\n      <td>Scaled Score</td>\n      <td>Scale</td>\n      <td>242</td>\n      <td>CPI</td>\n      <td>Scale</td>\n      <td>100</td>\n      <td></td>\n      <td></td>\n      <td></td>\n    </tr>\n    <tr>\n      <th>2478</th>\n      <td>373737</td>\n      <td>1681372</td>\n      <td></td>\n      <td>10</td>\n      <td>5/1/20</td>\n      <td>MCAS</td>\n      <td>MCAS Math</td>\n      <td>Math</td>\n      <td>10</td>\n      <td>Performance Level</td>\n      <td>Level</td>\n      <td>3 - NI</td>\n      <td>Scaled Score</td>\n      <td>Scale</td>\n      <td>224</td>\n      <td>CPI</td>\n      <td>Scale</td>\n      <td>50</td>\n      <td></td>\n      <td></td>\n      <td></td>\n    </tr>\n    <tr>\n      <th>2478</th>\n      <td>373737</td>\n      <td>1681372</td>\n      <td></td>\n      <td>10</td>\n      <td>6/1/20</td>\n      <td>MCAS</td>\n      <td>MCAS Science</td>\n      <td>Science</td>\n      <td>10</td>\n      <td>Performance Level</td>\n      <td>Level</td>\n      <td>3 - NI</td>\n      <td>Scaled Score</td>\n      <td>Scale</td>\n      <td>234</td>\n      <td>CPI</td>\n      <td>Scale</td>\n      <td>75</td>\n      <td></td>\n      <td></td>\n      <td></td>\n    </tr>\n  </tbody>\n</table>\n</div>"
     },
     "metadata": {},
     "execution_count": 35
    }
   ],
   "source": [
    "# no rows removed\n",
    "df_final.loc[df_final['StudentTestID'] == 1681372]"
   ]
  },
  {
   "cell_type": "markdown",
   "metadata": {},
   "source": [
    "## One score missing"
   ]
  },
  {
   "cell_type": "code",
   "execution_count": 36,
   "metadata": {},
   "outputs": [
    {
     "output_type": "execute_result",
     "data": {
      "text/plain": [
       "        sasid stugrade escaleds eperf2 ecpi mscaleds mperf2 mcpi sscaleds  \\\n",
       "2669  1760810        7               W  100               W  100            \n",
       "\n",
       "     sperf2 scpi  \n",
       "2669              "
      ],
      "text/html": "<div>\n<style scoped>\n    .dataframe tbody tr th:only-of-type {\n        vertical-align: middle;\n    }\n\n    .dataframe tbody tr th {\n        vertical-align: top;\n    }\n\n    .dataframe thead th {\n        text-align: right;\n    }\n</style>\n<table border=\"1\" class=\"dataframe\">\n  <thead>\n    <tr style=\"text-align: right;\">\n      <th></th>\n      <th>sasid</th>\n      <th>stugrade</th>\n      <th>escaleds</th>\n      <th>eperf2</th>\n      <th>ecpi</th>\n      <th>mscaleds</th>\n      <th>mperf2</th>\n      <th>mcpi</th>\n      <th>sscaleds</th>\n      <th>sperf2</th>\n      <th>scpi</th>\n    </tr>\n  </thead>\n  <tbody>\n    <tr>\n      <th>2669</th>\n      <td>1760810</td>\n      <td>7</td>\n      <td></td>\n      <td>W</td>\n      <td>100</td>\n      <td></td>\n      <td>W</td>\n      <td>100</td>\n      <td></td>\n      <td></td>\n      <td></td>\n    </tr>\n  </tbody>\n</table>\n</div>"
     },
     "metadata": {},
     "execution_count": 36
    }
   ],
   "source": [
    "# original has two test scores\n",
    "df_original.loc[df_original['sasid'] == 1760810]"
   ]
  },
  {
   "cell_type": "code",
   "execution_count": 37,
   "metadata": {},
   "outputs": [
    {
     "output_type": "execute_result",
     "data": {
      "text/plain": [
       "      StudentTestID  NCESID StudentLocalID StudentGradeLevel TestDate  \\\n",
       "2669        1760810  373737                                7   4/1/20   \n",
       "2669        1760810  373737                                7   5/1/20   \n",
       "2669        1760810  373737                                7   6/1/20   \n",
       "\n",
       "     TestName  TestTypeName TestSubjectName TestGradeLevel        Score1Label  \\\n",
       "2669     MCAS      MCAS ELA             ELA              7  Performance Level   \n",
       "2669     MCAS     MCAS Math            Math              7  Performance Level   \n",
       "2669     MCAS  MCAS Science         Science              7  Performance Level   \n",
       "\n",
       "     Score1Type Score1Value   Score2Label Score2Type Score2Value Score3Label  \\\n",
       "2669      Level           W  Scaled Score      Scale                     CPI   \n",
       "2669      Level           W  Scaled Score      Scale                     CPI   \n",
       "2669      Level              Scaled Score      Scale                     CPI   \n",
       "\n",
       "     Score3Type Score3Value Score4Label Score4Type Score4Value  \n",
       "2669      Scale         100                                     \n",
       "2669      Scale         100                                     \n",
       "2669      Scale                                                 "
      ],
      "text/html": "<div>\n<style scoped>\n    .dataframe tbody tr th:only-of-type {\n        vertical-align: middle;\n    }\n\n    .dataframe tbody tr th {\n        vertical-align: top;\n    }\n\n    .dataframe thead th {\n        text-align: right;\n    }\n</style>\n<table border=\"1\" class=\"dataframe\">\n  <thead>\n    <tr style=\"text-align: right;\">\n      <th></th>\n      <th>StudentTestID</th>\n      <th>NCESID</th>\n      <th>StudentLocalID</th>\n      <th>StudentGradeLevel</th>\n      <th>TestDate</th>\n      <th>TestName</th>\n      <th>TestTypeName</th>\n      <th>TestSubjectName</th>\n      <th>TestGradeLevel</th>\n      <th>Score1Label</th>\n      <th>Score1Type</th>\n      <th>Score1Value</th>\n      <th>Score2Label</th>\n      <th>Score2Type</th>\n      <th>Score2Value</th>\n      <th>Score3Label</th>\n      <th>Score3Type</th>\n      <th>Score3Value</th>\n      <th>Score4Label</th>\n      <th>Score4Type</th>\n      <th>Score4Value</th>\n    </tr>\n  </thead>\n  <tbody>\n    <tr>\n      <th>2669</th>\n      <td>1760810</td>\n      <td>373737</td>\n      <td></td>\n      <td>7</td>\n      <td>4/1/20</td>\n      <td>MCAS</td>\n      <td>MCAS ELA</td>\n      <td>ELA</td>\n      <td>7</td>\n      <td>Performance Level</td>\n      <td>Level</td>\n      <td>W</td>\n      <td>Scaled Score</td>\n      <td>Scale</td>\n      <td></td>\n      <td>CPI</td>\n      <td>Scale</td>\n      <td>100</td>\n      <td></td>\n      <td></td>\n      <td></td>\n    </tr>\n    <tr>\n      <th>2669</th>\n      <td>1760810</td>\n      <td>373737</td>\n      <td></td>\n      <td>7</td>\n      <td>5/1/20</td>\n      <td>MCAS</td>\n      <td>MCAS Math</td>\n      <td>Math</td>\n      <td>7</td>\n      <td>Performance Level</td>\n      <td>Level</td>\n      <td>W</td>\n      <td>Scaled Score</td>\n      <td>Scale</td>\n      <td></td>\n      <td>CPI</td>\n      <td>Scale</td>\n      <td>100</td>\n      <td></td>\n      <td></td>\n      <td></td>\n    </tr>\n    <tr>\n      <th>2669</th>\n      <td>1760810</td>\n      <td>373737</td>\n      <td></td>\n      <td>7</td>\n      <td>6/1/20</td>\n      <td>MCAS</td>\n      <td>MCAS Science</td>\n      <td>Science</td>\n      <td>7</td>\n      <td>Performance Level</td>\n      <td>Level</td>\n      <td></td>\n      <td>Scaled Score</td>\n      <td>Scale</td>\n      <td></td>\n      <td>CPI</td>\n      <td>Scale</td>\n      <td></td>\n      <td></td>\n      <td></td>\n      <td></td>\n    </tr>\n  </tbody>\n</table>\n</div>"
     },
     "metadata": {},
     "execution_count": 37
    }
   ],
   "source": [
    "# three rows, one per subject\n",
    "df_combined.loc[df_combined['StudentTestID'] == 1760810]"
   ]
  },
  {
   "cell_type": "code",
   "execution_count": 38,
   "metadata": {
    "scrolled": false
   },
   "outputs": [
    {
     "output_type": "execute_result",
     "data": {
      "text/plain": [
       "      NCESID  StudentTestID StudentLocalID StudentGradeLevel TestDate  \\\n",
       "2669  373737        1760810                                7   4/1/20   \n",
       "2669  373737        1760810                                7   5/1/20   \n",
       "\n",
       "     TestName TestTypeName TestSubjectName TestGradeLevel        Score1Label  \\\n",
       "2669     MCAS     MCAS ELA             ELA              7  Performance Level   \n",
       "2669     MCAS    MCAS Math            Math              7  Performance Level   \n",
       "\n",
       "     Score1Type Score1Value   Score2Label Score2Type Score2Value Score3Label  \\\n",
       "2669      Level       2 - W  Scaled Score      Scale                     CPI   \n",
       "2669      Level       2 - W  Scaled Score      Scale                     CPI   \n",
       "\n",
       "     Score3Type Score3Value Score4Label Score4Type Score4Value  \n",
       "2669      Scale         100                                     \n",
       "2669      Scale         100                                     "
      ],
      "text/html": "<div>\n<style scoped>\n    .dataframe tbody tr th:only-of-type {\n        vertical-align: middle;\n    }\n\n    .dataframe tbody tr th {\n        vertical-align: top;\n    }\n\n    .dataframe thead th {\n        text-align: right;\n    }\n</style>\n<table border=\"1\" class=\"dataframe\">\n  <thead>\n    <tr style=\"text-align: right;\">\n      <th></th>\n      <th>NCESID</th>\n      <th>StudentTestID</th>\n      <th>StudentLocalID</th>\n      <th>StudentGradeLevel</th>\n      <th>TestDate</th>\n      <th>TestName</th>\n      <th>TestTypeName</th>\n      <th>TestSubjectName</th>\n      <th>TestGradeLevel</th>\n      <th>Score1Label</th>\n      <th>Score1Type</th>\n      <th>Score1Value</th>\n      <th>Score2Label</th>\n      <th>Score2Type</th>\n      <th>Score2Value</th>\n      <th>Score3Label</th>\n      <th>Score3Type</th>\n      <th>Score3Value</th>\n      <th>Score4Label</th>\n      <th>Score4Type</th>\n      <th>Score4Value</th>\n    </tr>\n  </thead>\n  <tbody>\n    <tr>\n      <th>2669</th>\n      <td>373737</td>\n      <td>1760810</td>\n      <td></td>\n      <td>7</td>\n      <td>4/1/20</td>\n      <td>MCAS</td>\n      <td>MCAS ELA</td>\n      <td>ELA</td>\n      <td>7</td>\n      <td>Performance Level</td>\n      <td>Level</td>\n      <td>2 - W</td>\n      <td>Scaled Score</td>\n      <td>Scale</td>\n      <td></td>\n      <td>CPI</td>\n      <td>Scale</td>\n      <td>100</td>\n      <td></td>\n      <td></td>\n      <td></td>\n    </tr>\n    <tr>\n      <th>2669</th>\n      <td>373737</td>\n      <td>1760810</td>\n      <td></td>\n      <td>7</td>\n      <td>5/1/20</td>\n      <td>MCAS</td>\n      <td>MCAS Math</td>\n      <td>Math</td>\n      <td>7</td>\n      <td>Performance Level</td>\n      <td>Level</td>\n      <td>2 - W</td>\n      <td>Scaled Score</td>\n      <td>Scale</td>\n      <td></td>\n      <td>CPI</td>\n      <td>Scale</td>\n      <td>100</td>\n      <td></td>\n      <td></td>\n      <td></td>\n    </tr>\n  </tbody>\n</table>\n</div>"
     },
     "metadata": {},
     "execution_count": 38
    }
   ],
   "source": [
    "# blank row removed\n",
    "df_final.loc[df_final['StudentTestID'] == 1760810]"
   ]
  },
  {
   "cell_type": "markdown",
   "metadata": {},
   "source": [
    "## All scores missing"
   ]
  },
  {
   "cell_type": "code",
   "execution_count": 39,
   "metadata": {},
   "outputs": [
    {
     "output_type": "execute_result",
     "data": {
      "text/plain": [
       "        sasid stugrade escaleds eperf2 ecpi mscaleds mperf2 mcpi sscaleds  \\\n",
       "1569  1465689        8                                                      \n",
       "\n",
       "     sperf2 scpi  \n",
       "1569              "
      ],
      "text/html": "<div>\n<style scoped>\n    .dataframe tbody tr th:only-of-type {\n        vertical-align: middle;\n    }\n\n    .dataframe tbody tr th {\n        vertical-align: top;\n    }\n\n    .dataframe thead th {\n        text-align: right;\n    }\n</style>\n<table border=\"1\" class=\"dataframe\">\n  <thead>\n    <tr style=\"text-align: right;\">\n      <th></th>\n      <th>sasid</th>\n      <th>stugrade</th>\n      <th>escaleds</th>\n      <th>eperf2</th>\n      <th>ecpi</th>\n      <th>mscaleds</th>\n      <th>mperf2</th>\n      <th>mcpi</th>\n      <th>sscaleds</th>\n      <th>sperf2</th>\n      <th>scpi</th>\n    </tr>\n  </thead>\n  <tbody>\n    <tr>\n      <th>1569</th>\n      <td>1465689</td>\n      <td>8</td>\n      <td></td>\n      <td></td>\n      <td></td>\n      <td></td>\n      <td></td>\n      <td></td>\n      <td></td>\n      <td></td>\n      <td></td>\n    </tr>\n  </tbody>\n</table>\n</div>"
     },
     "metadata": {},
     "execution_count": 39
    }
   ],
   "source": [
    "# no test scores\n",
    "df_original.loc[df_original['sasid'] == 1465689]"
   ]
  },
  {
   "cell_type": "code",
   "execution_count": 40,
   "metadata": {},
   "outputs": [
    {
     "output_type": "execute_result",
     "data": {
      "text/plain": [
       "      StudentTestID  NCESID StudentLocalID StudentGradeLevel TestDate  \\\n",
       "1569        1465689  373737                                8   4/1/20   \n",
       "1569        1465689  373737                                8   5/1/20   \n",
       "1569        1465689  373737                                8   6/1/20   \n",
       "\n",
       "     TestName  TestTypeName TestSubjectName TestGradeLevel        Score1Label  \\\n",
       "1569     MCAS      MCAS ELA             ELA              8  Performance Level   \n",
       "1569     MCAS     MCAS Math            Math              8  Performance Level   \n",
       "1569     MCAS  MCAS Science         Science              8  Performance Level   \n",
       "\n",
       "     Score1Type Score1Value   Score2Label Score2Type Score2Value Score3Label  \\\n",
       "1569      Level              Scaled Score      Scale                     CPI   \n",
       "1569      Level              Scaled Score      Scale                     CPI   \n",
       "1569      Level              Scaled Score      Scale                     CPI   \n",
       "\n",
       "     Score3Type Score3Value Score4Label Score4Type Score4Value  \n",
       "1569      Scale                                                 \n",
       "1569      Scale                                                 \n",
       "1569      Scale                                                 "
      ],
      "text/html": "<div>\n<style scoped>\n    .dataframe tbody tr th:only-of-type {\n        vertical-align: middle;\n    }\n\n    .dataframe tbody tr th {\n        vertical-align: top;\n    }\n\n    .dataframe thead th {\n        text-align: right;\n    }\n</style>\n<table border=\"1\" class=\"dataframe\">\n  <thead>\n    <tr style=\"text-align: right;\">\n      <th></th>\n      <th>StudentTestID</th>\n      <th>NCESID</th>\n      <th>StudentLocalID</th>\n      <th>StudentGradeLevel</th>\n      <th>TestDate</th>\n      <th>TestName</th>\n      <th>TestTypeName</th>\n      <th>TestSubjectName</th>\n      <th>TestGradeLevel</th>\n      <th>Score1Label</th>\n      <th>Score1Type</th>\n      <th>Score1Value</th>\n      <th>Score2Label</th>\n      <th>Score2Type</th>\n      <th>Score2Value</th>\n      <th>Score3Label</th>\n      <th>Score3Type</th>\n      <th>Score3Value</th>\n      <th>Score4Label</th>\n      <th>Score4Type</th>\n      <th>Score4Value</th>\n    </tr>\n  </thead>\n  <tbody>\n    <tr>\n      <th>1569</th>\n      <td>1465689</td>\n      <td>373737</td>\n      <td></td>\n      <td>8</td>\n      <td>4/1/20</td>\n      <td>MCAS</td>\n      <td>MCAS ELA</td>\n      <td>ELA</td>\n      <td>8</td>\n      <td>Performance Level</td>\n      <td>Level</td>\n      <td></td>\n      <td>Scaled Score</td>\n      <td>Scale</td>\n      <td></td>\n      <td>CPI</td>\n      <td>Scale</td>\n      <td></td>\n      <td></td>\n      <td></td>\n      <td></td>\n    </tr>\n    <tr>\n      <th>1569</th>\n      <td>1465689</td>\n      <td>373737</td>\n      <td></td>\n      <td>8</td>\n      <td>5/1/20</td>\n      <td>MCAS</td>\n      <td>MCAS Math</td>\n      <td>Math</td>\n      <td>8</td>\n      <td>Performance Level</td>\n      <td>Level</td>\n      <td></td>\n      <td>Scaled Score</td>\n      <td>Scale</td>\n      <td></td>\n      <td>CPI</td>\n      <td>Scale</td>\n      <td></td>\n      <td></td>\n      <td></td>\n      <td></td>\n    </tr>\n    <tr>\n      <th>1569</th>\n      <td>1465689</td>\n      <td>373737</td>\n      <td></td>\n      <td>8</td>\n      <td>6/1/20</td>\n      <td>MCAS</td>\n      <td>MCAS Science</td>\n      <td>Science</td>\n      <td>8</td>\n      <td>Performance Level</td>\n      <td>Level</td>\n      <td></td>\n      <td>Scaled Score</td>\n      <td>Scale</td>\n      <td></td>\n      <td>CPI</td>\n      <td>Scale</td>\n      <td></td>\n      <td></td>\n      <td></td>\n      <td></td>\n    </tr>\n  </tbody>\n</table>\n</div>"
     },
     "metadata": {},
     "execution_count": 40
    }
   ],
   "source": [
    "# three rows, one per subject\n",
    "df_combined.loc[df_combined['StudentTestID'] == 1465689]"
   ]
  },
  {
   "cell_type": "code",
   "execution_count": 41,
   "metadata": {},
   "outputs": [
    {
     "output_type": "execute_result",
     "data": {
      "text/plain": [
       "Empty DataFrame\n",
       "Columns: [NCESID, StudentTestID, StudentLocalID, StudentGradeLevel, TestDate, TestName, TestTypeName, TestSubjectName, TestGradeLevel, Score1Label, Score1Type, Score1Value, Score2Label, Score2Type, Score2Value, Score3Label, Score3Type, Score3Value, Score4Label, Score4Type, Score4Value]\n",
       "Index: []"
      ],
      "text/html": "<div>\n<style scoped>\n    .dataframe tbody tr th:only-of-type {\n        vertical-align: middle;\n    }\n\n    .dataframe tbody tr th {\n        vertical-align: top;\n    }\n\n    .dataframe thead th {\n        text-align: right;\n    }\n</style>\n<table border=\"1\" class=\"dataframe\">\n  <thead>\n    <tr style=\"text-align: right;\">\n      <th></th>\n      <th>NCESID</th>\n      <th>StudentTestID</th>\n      <th>StudentLocalID</th>\n      <th>StudentGradeLevel</th>\n      <th>TestDate</th>\n      <th>TestName</th>\n      <th>TestTypeName</th>\n      <th>TestSubjectName</th>\n      <th>TestGradeLevel</th>\n      <th>Score1Label</th>\n      <th>Score1Type</th>\n      <th>Score1Value</th>\n      <th>Score2Label</th>\n      <th>Score2Type</th>\n      <th>Score2Value</th>\n      <th>Score3Label</th>\n      <th>Score3Type</th>\n      <th>Score3Value</th>\n      <th>Score4Label</th>\n      <th>Score4Type</th>\n      <th>Score4Value</th>\n    </tr>\n  </thead>\n  <tbody>\n  </tbody>\n</table>\n</div>"
     },
     "metadata": {},
     "execution_count": 41
    }
   ],
   "source": [
    "# all rows removed\n",
    "df_final.loc[df_final['StudentTestID'] == 1465689]"
   ]
  },
  {
   "cell_type": "markdown",
   "metadata": {},
   "source": [
    "## What about the duplicate records?"
   ]
  },
  {
   "cell_type": "code",
   "execution_count": 42,
   "metadata": {},
   "outputs": [
    {
     "output_type": "execute_result",
     "data": {
      "text/plain": [
       "        sasid stugrade escaleds eperf2 ecpi mscaleds mperf2 mcpi sscaleds  \\\n",
       "1363  1840155        7      254      P  100      258      P  100            \n",
       "2450  1840155       10      268      A  100      264      A  100      262   \n",
       "\n",
       "     sperf2 scpi  \n",
       "1363              \n",
       "2450      A  100  "
      ],
      "text/html": "<div>\n<style scoped>\n    .dataframe tbody tr th:only-of-type {\n        vertical-align: middle;\n    }\n\n    .dataframe tbody tr th {\n        vertical-align: top;\n    }\n\n    .dataframe thead th {\n        text-align: right;\n    }\n</style>\n<table border=\"1\" class=\"dataframe\">\n  <thead>\n    <tr style=\"text-align: right;\">\n      <th></th>\n      <th>sasid</th>\n      <th>stugrade</th>\n      <th>escaleds</th>\n      <th>eperf2</th>\n      <th>ecpi</th>\n      <th>mscaleds</th>\n      <th>mperf2</th>\n      <th>mcpi</th>\n      <th>sscaleds</th>\n      <th>sperf2</th>\n      <th>scpi</th>\n    </tr>\n  </thead>\n  <tbody>\n    <tr>\n      <th>1363</th>\n      <td>1840155</td>\n      <td>7</td>\n      <td>254</td>\n      <td>P</td>\n      <td>100</td>\n      <td>258</td>\n      <td>P</td>\n      <td>100</td>\n      <td></td>\n      <td></td>\n      <td></td>\n    </tr>\n    <tr>\n      <th>2450</th>\n      <td>1840155</td>\n      <td>10</td>\n      <td>268</td>\n      <td>A</td>\n      <td>100</td>\n      <td>264</td>\n      <td>A</td>\n      <td>100</td>\n      <td>262</td>\n      <td>A</td>\n      <td>100</td>\n    </tr>\n  </tbody>\n</table>\n</div>"
     },
     "metadata": {},
     "execution_count": 42
    }
   ],
   "source": [
    "# five test scores between two students\n",
    "df_original.loc[df_original['sasid'] == 1840155]"
   ]
  },
  {
   "cell_type": "code",
   "execution_count": 43,
   "metadata": {},
   "outputs": [
    {
     "output_type": "execute_result",
     "data": {
      "text/plain": [
       "      StudentTestID  NCESID StudentLocalID StudentGradeLevel TestDate  \\\n",
       "1363        1840155  373737                                7   4/1/20   \n",
       "2450        1840155  373737                               10   4/1/20   \n",
       "1363        1840155  373737                                7   5/1/20   \n",
       "2450        1840155  373737                               10   5/1/20   \n",
       "1363        1840155  373737                                7   6/1/20   \n",
       "2450        1840155  373737                               10   6/1/20   \n",
       "\n",
       "     TestName  TestTypeName TestSubjectName TestGradeLevel        Score1Label  \\\n",
       "1363     MCAS      MCAS ELA             ELA              7  Performance Level   \n",
       "2450     MCAS      MCAS ELA             ELA             10  Performance Level   \n",
       "1363     MCAS     MCAS Math            Math              7  Performance Level   \n",
       "2450     MCAS     MCAS Math            Math             10  Performance Level   \n",
       "1363     MCAS  MCAS Science         Science              7  Performance Level   \n",
       "2450     MCAS  MCAS Science         Science             10  Performance Level   \n",
       "\n",
       "     Score1Type Score1Value   Score2Label Score2Type Score2Value Score3Label  \\\n",
       "1363      Level           P  Scaled Score      Scale         254         CPI   \n",
       "2450      Level           A  Scaled Score      Scale         268         CPI   \n",
       "1363      Level           P  Scaled Score      Scale         258         CPI   \n",
       "2450      Level           A  Scaled Score      Scale         264         CPI   \n",
       "1363      Level              Scaled Score      Scale                     CPI   \n",
       "2450      Level           A  Scaled Score      Scale         262         CPI   \n",
       "\n",
       "     Score3Type Score3Value Score4Label Score4Type Score4Value  \n",
       "1363      Scale         100                                     \n",
       "2450      Scale         100                                     \n",
       "1363      Scale         100                                     \n",
       "2450      Scale         100                                     \n",
       "1363      Scale                                                 \n",
       "2450      Scale         100                                     "
      ],
      "text/html": "<div>\n<style scoped>\n    .dataframe tbody tr th:only-of-type {\n        vertical-align: middle;\n    }\n\n    .dataframe tbody tr th {\n        vertical-align: top;\n    }\n\n    .dataframe thead th {\n        text-align: right;\n    }\n</style>\n<table border=\"1\" class=\"dataframe\">\n  <thead>\n    <tr style=\"text-align: right;\">\n      <th></th>\n      <th>StudentTestID</th>\n      <th>NCESID</th>\n      <th>StudentLocalID</th>\n      <th>StudentGradeLevel</th>\n      <th>TestDate</th>\n      <th>TestName</th>\n      <th>TestTypeName</th>\n      <th>TestSubjectName</th>\n      <th>TestGradeLevel</th>\n      <th>Score1Label</th>\n      <th>Score1Type</th>\n      <th>Score1Value</th>\n      <th>Score2Label</th>\n      <th>Score2Type</th>\n      <th>Score2Value</th>\n      <th>Score3Label</th>\n      <th>Score3Type</th>\n      <th>Score3Value</th>\n      <th>Score4Label</th>\n      <th>Score4Type</th>\n      <th>Score4Value</th>\n    </tr>\n  </thead>\n  <tbody>\n    <tr>\n      <th>1363</th>\n      <td>1840155</td>\n      <td>373737</td>\n      <td></td>\n      <td>7</td>\n      <td>4/1/20</td>\n      <td>MCAS</td>\n      <td>MCAS ELA</td>\n      <td>ELA</td>\n      <td>7</td>\n      <td>Performance Level</td>\n      <td>Level</td>\n      <td>P</td>\n      <td>Scaled Score</td>\n      <td>Scale</td>\n      <td>254</td>\n      <td>CPI</td>\n      <td>Scale</td>\n      <td>100</td>\n      <td></td>\n      <td></td>\n      <td></td>\n    </tr>\n    <tr>\n      <th>2450</th>\n      <td>1840155</td>\n      <td>373737</td>\n      <td></td>\n      <td>10</td>\n      <td>4/1/20</td>\n      <td>MCAS</td>\n      <td>MCAS ELA</td>\n      <td>ELA</td>\n      <td>10</td>\n      <td>Performance Level</td>\n      <td>Level</td>\n      <td>A</td>\n      <td>Scaled Score</td>\n      <td>Scale</td>\n      <td>268</td>\n      <td>CPI</td>\n      <td>Scale</td>\n      <td>100</td>\n      <td></td>\n      <td></td>\n      <td></td>\n    </tr>\n    <tr>\n      <th>1363</th>\n      <td>1840155</td>\n      <td>373737</td>\n      <td></td>\n      <td>7</td>\n      <td>5/1/20</td>\n      <td>MCAS</td>\n      <td>MCAS Math</td>\n      <td>Math</td>\n      <td>7</td>\n      <td>Performance Level</td>\n      <td>Level</td>\n      <td>P</td>\n      <td>Scaled Score</td>\n      <td>Scale</td>\n      <td>258</td>\n      <td>CPI</td>\n      <td>Scale</td>\n      <td>100</td>\n      <td></td>\n      <td></td>\n      <td></td>\n    </tr>\n    <tr>\n      <th>2450</th>\n      <td>1840155</td>\n      <td>373737</td>\n      <td></td>\n      <td>10</td>\n      <td>5/1/20</td>\n      <td>MCAS</td>\n      <td>MCAS Math</td>\n      <td>Math</td>\n      <td>10</td>\n      <td>Performance Level</td>\n      <td>Level</td>\n      <td>A</td>\n      <td>Scaled Score</td>\n      <td>Scale</td>\n      <td>264</td>\n      <td>CPI</td>\n      <td>Scale</td>\n      <td>100</td>\n      <td></td>\n      <td></td>\n      <td></td>\n    </tr>\n    <tr>\n      <th>1363</th>\n      <td>1840155</td>\n      <td>373737</td>\n      <td></td>\n      <td>7</td>\n      <td>6/1/20</td>\n      <td>MCAS</td>\n      <td>MCAS Science</td>\n      <td>Science</td>\n      <td>7</td>\n      <td>Performance Level</td>\n      <td>Level</td>\n      <td></td>\n      <td>Scaled Score</td>\n      <td>Scale</td>\n      <td></td>\n      <td>CPI</td>\n      <td>Scale</td>\n      <td></td>\n      <td></td>\n      <td></td>\n      <td></td>\n    </tr>\n    <tr>\n      <th>2450</th>\n      <td>1840155</td>\n      <td>373737</td>\n      <td></td>\n      <td>10</td>\n      <td>6/1/20</td>\n      <td>MCAS</td>\n      <td>MCAS Science</td>\n      <td>Science</td>\n      <td>10</td>\n      <td>Performance Level</td>\n      <td>Level</td>\n      <td>A</td>\n      <td>Scaled Score</td>\n      <td>Scale</td>\n      <td>262</td>\n      <td>CPI</td>\n      <td>Scale</td>\n      <td>100</td>\n      <td></td>\n      <td></td>\n      <td></td>\n    </tr>\n  </tbody>\n</table>\n</div>"
     },
     "metadata": {},
     "execution_count": 43
    }
   ],
   "source": [
    "# six rows\n",
    "df_combined.loc[df_combined['StudentTestID'] == 1840155]"
   ]
  },
  {
   "cell_type": "code",
   "execution_count": 44,
   "metadata": {},
   "outputs": [
    {
     "output_type": "execute_result",
     "data": {
      "text/plain": [
       "      NCESID  StudentTestID StudentLocalID StudentGradeLevel TestDate  \\\n",
       "1363  373737        1840155                                7   4/1/20   \n",
       "2450  373737        1840155                               10   4/1/20   \n",
       "1363  373737        1840155                                7   5/1/20   \n",
       "2450  373737        1840155                               10   5/1/20   \n",
       "2450  373737        1840155                               10   6/1/20   \n",
       "\n",
       "     TestName  TestTypeName TestSubjectName TestGradeLevel        Score1Label  \\\n",
       "1363     MCAS      MCAS ELA             ELA              7  Performance Level   \n",
       "2450     MCAS      MCAS ELA             ELA             10  Performance Level   \n",
       "1363     MCAS     MCAS Math            Math              7  Performance Level   \n",
       "2450     MCAS     MCAS Math            Math             10  Performance Level   \n",
       "2450     MCAS  MCAS Science         Science             10  Performance Level   \n",
       "\n",
       "     Score1Type Score1Value   Score2Label Score2Type Score2Value Score3Label  \\\n",
       "1363      Level       4 - P  Scaled Score      Scale         254         CPI   \n",
       "2450      Level       5 - A  Scaled Score      Scale         268         CPI   \n",
       "1363      Level       4 - P  Scaled Score      Scale         258         CPI   \n",
       "2450      Level       5 - A  Scaled Score      Scale         264         CPI   \n",
       "2450      Level       5 - A  Scaled Score      Scale         262         CPI   \n",
       "\n",
       "     Score3Type Score3Value Score4Label Score4Type Score4Value  \n",
       "1363      Scale         100                                     \n",
       "2450      Scale         100                                     \n",
       "1363      Scale         100                                     \n",
       "2450      Scale         100                                     \n",
       "2450      Scale         100                                     "
      ],
      "text/html": "<div>\n<style scoped>\n    .dataframe tbody tr th:only-of-type {\n        vertical-align: middle;\n    }\n\n    .dataframe tbody tr th {\n        vertical-align: top;\n    }\n\n    .dataframe thead th {\n        text-align: right;\n    }\n</style>\n<table border=\"1\" class=\"dataframe\">\n  <thead>\n    <tr style=\"text-align: right;\">\n      <th></th>\n      <th>NCESID</th>\n      <th>StudentTestID</th>\n      <th>StudentLocalID</th>\n      <th>StudentGradeLevel</th>\n      <th>TestDate</th>\n      <th>TestName</th>\n      <th>TestTypeName</th>\n      <th>TestSubjectName</th>\n      <th>TestGradeLevel</th>\n      <th>Score1Label</th>\n      <th>Score1Type</th>\n      <th>Score1Value</th>\n      <th>Score2Label</th>\n      <th>Score2Type</th>\n      <th>Score2Value</th>\n      <th>Score3Label</th>\n      <th>Score3Type</th>\n      <th>Score3Value</th>\n      <th>Score4Label</th>\n      <th>Score4Type</th>\n      <th>Score4Value</th>\n    </tr>\n  </thead>\n  <tbody>\n    <tr>\n      <th>1363</th>\n      <td>373737</td>\n      <td>1840155</td>\n      <td></td>\n      <td>7</td>\n      <td>4/1/20</td>\n      <td>MCAS</td>\n      <td>MCAS ELA</td>\n      <td>ELA</td>\n      <td>7</td>\n      <td>Performance Level</td>\n      <td>Level</td>\n      <td>4 - P</td>\n      <td>Scaled Score</td>\n      <td>Scale</td>\n      <td>254</td>\n      <td>CPI</td>\n      <td>Scale</td>\n      <td>100</td>\n      <td></td>\n      <td></td>\n      <td></td>\n    </tr>\n    <tr>\n      <th>2450</th>\n      <td>373737</td>\n      <td>1840155</td>\n      <td></td>\n      <td>10</td>\n      <td>4/1/20</td>\n      <td>MCAS</td>\n      <td>MCAS ELA</td>\n      <td>ELA</td>\n      <td>10</td>\n      <td>Performance Level</td>\n      <td>Level</td>\n      <td>5 - A</td>\n      <td>Scaled Score</td>\n      <td>Scale</td>\n      <td>268</td>\n      <td>CPI</td>\n      <td>Scale</td>\n      <td>100</td>\n      <td></td>\n      <td></td>\n      <td></td>\n    </tr>\n    <tr>\n      <th>1363</th>\n      <td>373737</td>\n      <td>1840155</td>\n      <td></td>\n      <td>7</td>\n      <td>5/1/20</td>\n      <td>MCAS</td>\n      <td>MCAS Math</td>\n      <td>Math</td>\n      <td>7</td>\n      <td>Performance Level</td>\n      <td>Level</td>\n      <td>4 - P</td>\n      <td>Scaled Score</td>\n      <td>Scale</td>\n      <td>258</td>\n      <td>CPI</td>\n      <td>Scale</td>\n      <td>100</td>\n      <td></td>\n      <td></td>\n      <td></td>\n    </tr>\n    <tr>\n      <th>2450</th>\n      <td>373737</td>\n      <td>1840155</td>\n      <td></td>\n      <td>10</td>\n      <td>5/1/20</td>\n      <td>MCAS</td>\n      <td>MCAS Math</td>\n      <td>Math</td>\n      <td>10</td>\n      <td>Performance Level</td>\n      <td>Level</td>\n      <td>5 - A</td>\n      <td>Scaled Score</td>\n      <td>Scale</td>\n      <td>264</td>\n      <td>CPI</td>\n      <td>Scale</td>\n      <td>100</td>\n      <td></td>\n      <td></td>\n      <td></td>\n    </tr>\n    <tr>\n      <th>2450</th>\n      <td>373737</td>\n      <td>1840155</td>\n      <td></td>\n      <td>10</td>\n      <td>6/1/20</td>\n      <td>MCAS</td>\n      <td>MCAS Science</td>\n      <td>Science</td>\n      <td>10</td>\n      <td>Performance Level</td>\n      <td>Level</td>\n      <td>5 - A</td>\n      <td>Scaled Score</td>\n      <td>Scale</td>\n      <td>262</td>\n      <td>CPI</td>\n      <td>Scale</td>\n      <td>100</td>\n      <td></td>\n      <td></td>\n      <td></td>\n    </tr>\n  </tbody>\n</table>\n</div>"
     },
     "metadata": {},
     "execution_count": 44
    }
   ],
   "source": [
    "# one row removed == five test scores\n",
    "df_final.loc[df_final['StudentTestID'] == 1840155]"
   ]
  }
 ],
 "metadata": {
  "kernelspec": {
   "display_name": "Python 3",
   "language": "python",
   "name": "python3"
  },
  "language_info": {
   "codemirror_mode": {
    "name": "ipython",
    "version": 3
   },
   "file_extension": ".py",
   "mimetype": "text/x-python",
   "name": "python",
   "nbconvert_exporter": "python",
   "pygments_lexer": "ipython3",
   "version": "3.7.7-final"
  }
 },
 "nbformat": 4,
 "nbformat_minor": 2
}